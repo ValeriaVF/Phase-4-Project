{
 "cells": [
  {
   "cell_type": "markdown",
   "metadata": {},
   "source": [
    "# Main Jupyter Noootbook"
   ]
  },
  {
   "cell_type": "markdown",
   "metadata": {},
   "source": [
    "### Imports"
   ]
  },
  {
   "cell_type": "code",
   "execution_count": 2,
   "metadata": {},
   "outputs": [],
   "source": [
    "import pandas as pd\n",
    "import numpy as np\n",
    "import matplotlib.pyplot as plt\n",
    "from nltk.tokenize import RegexpTokenizer\n",
    "from nltk.corpus import stopwords\n",
    "from sklearn.feature_extraction.text import TfidfVectorizer, CountVectorizer\n",
    "from sklearn.naive_bayes import MultinomialNB\n",
    "from sklearn.pipeline import Pipeline\n",
    "from sklearn.feature_extraction.text import TfidfTransformer\n",
    "from sklearn.linear_model import SGDClassifier, LogisticRegression\n",
    "from sklearn.metrics import accuracy_score\n",
    "from sklearn.metrics import plot_confusion_matrix\n",
    "from sklearn.model_selection import train_test_split\n",
    "from nlp_preprocessing import VIA_GoGo\n",
    "import seaborn as sns\n",
    "import gensim\n",
    "from sklearn.ensemble import RandomForestClassifier\n",
    "\n",
    "from tensorflow.keras.layers import Dropout\n",
    "from tensorflow.keras.models import Sequential\n",
    "from tensorflow.keras import layers\n"
   ]
  },
  {
   "cell_type": "markdown",
   "metadata": {},
   "source": [
    "### Data Overview"
   ]
  },
  {
   "cell_type": "code",
   "execution_count": 3,
   "metadata": {},
   "outputs": [],
   "source": [
    "tweet_df = pd.read_csv('data\\db_tweet_emotion.csv', encoding= 'unicode_escape')"
   ]
  },
  {
   "cell_type": "code",
   "execution_count": 4,
   "metadata": {},
   "outputs": [
    {
     "data": {
      "text/html": [
       "<div>\n",
       "<style scoped>\n",
       "    .dataframe tbody tr th:only-of-type {\n",
       "        vertical-align: middle;\n",
       "    }\n",
       "\n",
       "    .dataframe tbody tr th {\n",
       "        vertical-align: top;\n",
       "    }\n",
       "\n",
       "    .dataframe thead th {\n",
       "        text-align: right;\n",
       "    }\n",
       "</style>\n",
       "<table border=\"1\" class=\"dataframe\">\n",
       "  <thead>\n",
       "    <tr style=\"text-align: right;\">\n",
       "      <th></th>\n",
       "      <th>tweet_text</th>\n",
       "      <th>emotion_in_tweet_is_directed_at</th>\n",
       "      <th>is_there_an_emotion_directed_at_a_brand_or_product</th>\n",
       "    </tr>\n",
       "  </thead>\n",
       "  <tbody>\n",
       "    <tr>\n",
       "      <th>0</th>\n",
       "      <td>.@wesley83 I have a 3G iPhone. After 3 hrs twe...</td>\n",
       "      <td>iPhone</td>\n",
       "      <td>Negative emotion</td>\n",
       "    </tr>\n",
       "    <tr>\n",
       "      <th>1</th>\n",
       "      <td>@jessedee Know about @fludapp ? Awesome iPad/i...</td>\n",
       "      <td>iPad or iPhone App</td>\n",
       "      <td>Positive emotion</td>\n",
       "    </tr>\n",
       "    <tr>\n",
       "      <th>2</th>\n",
       "      <td>@swonderlin Can not wait for #iPad 2 also. The...</td>\n",
       "      <td>iPad</td>\n",
       "      <td>Positive emotion</td>\n",
       "    </tr>\n",
       "    <tr>\n",
       "      <th>3</th>\n",
       "      <td>@sxsw I hope this year's festival isn't as cra...</td>\n",
       "      <td>iPad or iPhone App</td>\n",
       "      <td>Negative emotion</td>\n",
       "    </tr>\n",
       "    <tr>\n",
       "      <th>4</th>\n",
       "      <td>@sxtxstate great stuff on Fri #SXSW: Marissa M...</td>\n",
       "      <td>Google</td>\n",
       "      <td>Positive emotion</td>\n",
       "    </tr>\n",
       "    <tr>\n",
       "      <th>...</th>\n",
       "      <td>...</td>\n",
       "      <td>...</td>\n",
       "      <td>...</td>\n",
       "    </tr>\n",
       "    <tr>\n",
       "      <th>9088</th>\n",
       "      <td>Ipad everywhere. #SXSW {link}</td>\n",
       "      <td>iPad</td>\n",
       "      <td>Positive emotion</td>\n",
       "    </tr>\n",
       "    <tr>\n",
       "      <th>9089</th>\n",
       "      <td>Wave, buzz... RT @mention We interrupt your re...</td>\n",
       "      <td>NaN</td>\n",
       "      <td>No emotion toward brand or product</td>\n",
       "    </tr>\n",
       "    <tr>\n",
       "      <th>9090</th>\n",
       "      <td>Google's Zeiger, a physician never reported po...</td>\n",
       "      <td>NaN</td>\n",
       "      <td>No emotion toward brand or product</td>\n",
       "    </tr>\n",
       "    <tr>\n",
       "      <th>9091</th>\n",
       "      <td>Some Verizon iPhone customers complained their...</td>\n",
       "      <td>NaN</td>\n",
       "      <td>No emotion toward brand or product</td>\n",
       "    </tr>\n",
       "    <tr>\n",
       "      <th>9092</th>\n",
       "      <td>Ï¡Ïàü_ÊÎÒ£Áââ_£â_ÛâRT @...</td>\n",
       "      <td>NaN</td>\n",
       "      <td>No emotion toward brand or product</td>\n",
       "    </tr>\n",
       "  </tbody>\n",
       "</table>\n",
       "<p>9093 rows × 3 columns</p>\n",
       "</div>"
      ],
      "text/plain": [
       "                                             tweet_text  \\\n",
       "0     .@wesley83 I have a 3G iPhone. After 3 hrs twe...   \n",
       "1     @jessedee Know about @fludapp ? Awesome iPad/i...   \n",
       "2     @swonderlin Can not wait for #iPad 2 also. The...   \n",
       "3     @sxsw I hope this year's festival isn't as cra...   \n",
       "4     @sxtxstate great stuff on Fri #SXSW: Marissa M...   \n",
       "...                                                 ...   \n",
       "9088                      Ipad everywhere. #SXSW {link}   \n",
       "9089  Wave, buzz... RT @mention We interrupt your re...   \n",
       "9090  Google's Zeiger, a physician never reported po...   \n",
       "9091  Some Verizon iPhone customers complained their...   \n",
       "9092  Ï¡Ïàü_ÊÎÒ£Áââ_£â_ÛâRT @...   \n",
       "\n",
       "     emotion_in_tweet_is_directed_at  \\\n",
       "0                             iPhone   \n",
       "1                 iPad or iPhone App   \n",
       "2                               iPad   \n",
       "3                 iPad or iPhone App   \n",
       "4                             Google   \n",
       "...                              ...   \n",
       "9088                            iPad   \n",
       "9089                             NaN   \n",
       "9090                             NaN   \n",
       "9091                             NaN   \n",
       "9092                             NaN   \n",
       "\n",
       "     is_there_an_emotion_directed_at_a_brand_or_product  \n",
       "0                                      Negative emotion  \n",
       "1                                      Positive emotion  \n",
       "2                                      Positive emotion  \n",
       "3                                      Negative emotion  \n",
       "4                                      Positive emotion  \n",
       "...                                                 ...  \n",
       "9088                                   Positive emotion  \n",
       "9089                 No emotion toward brand or product  \n",
       "9090                 No emotion toward brand or product  \n",
       "9091                 No emotion toward brand or product  \n",
       "9092                 No emotion toward brand or product  \n",
       "\n",
       "[9093 rows x 3 columns]"
      ]
     },
     "execution_count": 4,
     "metadata": {},
     "output_type": "execute_result"
    }
   ],
   "source": [
    "tweet_df"
   ]
  },
  {
   "cell_type": "code",
   "execution_count": 5,
   "metadata": {},
   "outputs": [
    {
     "name": "stdout",
     "output_type": "stream",
     "text": [
      "<class 'pandas.core.frame.DataFrame'>\n",
      "RangeIndex: 9093 entries, 0 to 9092\n",
      "Data columns (total 3 columns):\n",
      " #   Column                                              Non-Null Count  Dtype \n",
      "---  ------                                              --------------  ----- \n",
      " 0   tweet_text                                          9092 non-null   object\n",
      " 1   emotion_in_tweet_is_directed_at                     3291 non-null   object\n",
      " 2   is_there_an_emotion_directed_at_a_brand_or_product  9093 non-null   object\n",
      "dtypes: object(3)\n",
      "memory usage: 213.2+ KB\n"
     ]
    }
   ],
   "source": [
    "tweet_df.info()"
   ]
  },
  {
   "cell_type": "code",
   "execution_count": 6,
   "metadata": {},
   "outputs": [
    {
     "data": {
      "text/plain": [
       "tweet_text                                               1\n",
       "emotion_in_tweet_is_directed_at                       5802\n",
       "is_there_an_emotion_directed_at_a_brand_or_product       0\n",
       "dtype: int64"
      ]
     },
     "execution_count": 6,
     "metadata": {},
     "output_type": "execute_result"
    }
   ],
   "source": [
    "tweet_df.isna().sum()"
   ]
  },
  {
   "cell_type": "code",
   "execution_count": 7,
   "metadata": {},
   "outputs": [
    {
     "data": {
      "text/plain": [
       "No emotion toward brand or product    5389\n",
       "Positive emotion                      2978\n",
       "Negative emotion                       570\n",
       "I can't tell                           156\n",
       "Name: is_there_an_emotion_directed_at_a_brand_or_product, dtype: int64"
      ]
     },
     "execution_count": 7,
     "metadata": {},
     "output_type": "execute_result"
    }
   ],
   "source": [
    "tweet_df['is_there_an_emotion_directed_at_a_brand_or_product'].value_counts()"
   ]
  },
  {
   "cell_type": "code",
   "execution_count": 8,
   "metadata": {},
   "outputs": [
    {
     "data": {
      "text/plain": [
       "iPad                               946\n",
       "Apple                              661\n",
       "iPad or iPhone App                 470\n",
       "Google                             430\n",
       "iPhone                             297\n",
       "Other Google product or service    293\n",
       "Android App                         81\n",
       "Android                             78\n",
       "Other Apple product or service      35\n",
       "Name: emotion_in_tweet_is_directed_at, dtype: int64"
      ]
     },
     "execution_count": 8,
     "metadata": {},
     "output_type": "execute_result"
    }
   ],
   "source": [
    "tweet_df['emotion_in_tweet_is_directed_at'].value_counts()"
   ]
  },
  {
   "cell_type": "markdown",
   "metadata": {},
   "source": [
    "### Clean Up & Tokenize"
   ]
  },
  {
   "cell_type": "code",
   "execution_count": 9,
   "metadata": {},
   "outputs": [],
   "source": [
    "# Instantiating tokenizer\n",
    "tokenizer = RegexpTokenizer(r\"(?u)\\b\\w\\w+\\b\")\n",
    "\n",
    "# Create a list of stopwords in English\n",
    "sw = stopwords.words('english')"
   ]
  },
  {
   "cell_type": "code",
   "execution_count": 10,
   "metadata": {},
   "outputs": [
    {
     "data": {
      "text/html": [
       "<div>\n",
       "<style scoped>\n",
       "    .dataframe tbody tr th:only-of-type {\n",
       "        vertical-align: middle;\n",
       "    }\n",
       "\n",
       "    .dataframe tbody tr th {\n",
       "        vertical-align: top;\n",
       "    }\n",
       "\n",
       "    .dataframe thead th {\n",
       "        text-align: right;\n",
       "    }\n",
       "</style>\n",
       "<table border=\"1\" class=\"dataframe\">\n",
       "  <thead>\n",
       "    <tr style=\"text-align: right;\">\n",
       "      <th></th>\n",
       "      <th>tweet_text</th>\n",
       "      <th>directed_at</th>\n",
       "      <th>emotion</th>\n",
       "      <th>emotion_num</th>\n",
       "      <th>brand</th>\n",
       "      <th>tweet_text_tokenized</th>\n",
       "      <th>joined_tokens</th>\n",
       "    </tr>\n",
       "  </thead>\n",
       "  <tbody>\n",
       "    <tr>\n",
       "      <th>0</th>\n",
       "      <td>.@wesley83 i have a 3g iphone. after 3 hrs twe...</td>\n",
       "      <td>iPhone</td>\n",
       "      <td>Negative emotion</td>\n",
       "      <td>-1</td>\n",
       "      <td>Apple</td>\n",
       "      <td>[wesley83, 3g, iphone, hr, tweeting, rise_aust...</td>\n",
       "      <td>wesley83 3g iphone hr tweeting rise_austin dea...</td>\n",
       "    </tr>\n",
       "    <tr>\n",
       "      <th>1</th>\n",
       "      <td>@jessedee know about @fludapp ? awesome ipad/i...</td>\n",
       "      <td>iPad or iPhone App</td>\n",
       "      <td>Positive emotion</td>\n",
       "      <td>1</td>\n",
       "      <td>Apple</td>\n",
       "      <td>[jessedee, know, fludapp, awesome, ipad, iphon...</td>\n",
       "      <td>jessedee know fludapp awesome ipad iphone app ...</td>\n",
       "    </tr>\n",
       "    <tr>\n",
       "      <th>2</th>\n",
       "      <td>@swonderlin can not wait for #ipad 2 also. the...</td>\n",
       "      <td>iPad</td>\n",
       "      <td>Positive emotion</td>\n",
       "      <td>1</td>\n",
       "      <td>Apple</td>\n",
       "      <td>[swonderlin, wait, ipad, also, sale, sxsw]</td>\n",
       "      <td>swonderlin wait ipad also sale sxsw</td>\n",
       "    </tr>\n",
       "    <tr>\n",
       "      <th>3</th>\n",
       "      <td>@sxsw i hope this year's festival isn't as cra...</td>\n",
       "      <td>iPad or iPhone App</td>\n",
       "      <td>Negative emotion</td>\n",
       "      <td>-1</td>\n",
       "      <td>Apple</td>\n",
       "      <td>[sxsw, hope, year, festival, crashy, year, iph...</td>\n",
       "      <td>sxsw hope year festival crashy year iphone app...</td>\n",
       "    </tr>\n",
       "    <tr>\n",
       "      <th>4</th>\n",
       "      <td>@sxtxstate great stuff on fri #sxsw: marissa m...</td>\n",
       "      <td>Google</td>\n",
       "      <td>Positive emotion</td>\n",
       "      <td>1</td>\n",
       "      <td>Google</td>\n",
       "      <td>[sxtxstate, great, stuff, fri, sxsw, marissa, ...</td>\n",
       "      <td>sxtxstate great stuff fri sxsw marissa mayer g...</td>\n",
       "    </tr>\n",
       "    <tr>\n",
       "      <th>...</th>\n",
       "      <td>...</td>\n",
       "      <td>...</td>\n",
       "      <td>...</td>\n",
       "      <td>...</td>\n",
       "      <td>...</td>\n",
       "      <td>...</td>\n",
       "      <td>...</td>\n",
       "    </tr>\n",
       "    <tr>\n",
       "      <th>9084</th>\n",
       "      <td>@mention yup, but i don't have a third app yet...</td>\n",
       "      <td>NaN</td>\n",
       "      <td>No emotion toward brand or product</td>\n",
       "      <td>0</td>\n",
       "      <td>Google</td>\n",
       "      <td>[mention, yup, third, app, yet, android, sugge...</td>\n",
       "      <td>mention yup third app yet android suggestion s...</td>\n",
       "    </tr>\n",
       "    <tr>\n",
       "      <th>9085</th>\n",
       "      <td>ipad everywhere. #sxsw {link}</td>\n",
       "      <td>iPad</td>\n",
       "      <td>Positive emotion</td>\n",
       "      <td>1</td>\n",
       "      <td>Apple</td>\n",
       "      <td>[ipad, everywhere, sxsw, link]</td>\n",
       "      <td>ipad everywhere sxsw link</td>\n",
       "    </tr>\n",
       "    <tr>\n",
       "      <th>9086</th>\n",
       "      <td>wave, buzz... rt @mention we interrupt your re...</td>\n",
       "      <td>NaN</td>\n",
       "      <td>No emotion toward brand or product</td>\n",
       "      <td>0</td>\n",
       "      <td>Google</td>\n",
       "      <td>[wave, buzz, rt, mention, interrupt, regularly...</td>\n",
       "      <td>wave buzz rt mention interrupt regularly sched...</td>\n",
       "    </tr>\n",
       "    <tr>\n",
       "      <th>9087</th>\n",
       "      <td>google's zeiger, a physician never reported po...</td>\n",
       "      <td>NaN</td>\n",
       "      <td>No emotion toward brand or product</td>\n",
       "      <td>0</td>\n",
       "      <td>Google</td>\n",
       "      <td>[google, zeiger, physician, never, reported, p...</td>\n",
       "      <td>google zeiger physician never reported potenti...</td>\n",
       "    </tr>\n",
       "    <tr>\n",
       "      <th>9088</th>\n",
       "      <td>some verizon iphone customers complained their...</td>\n",
       "      <td>NaN</td>\n",
       "      <td>No emotion toward brand or product</td>\n",
       "      <td>0</td>\n",
       "      <td>Apple</td>\n",
       "      <td>[verizon, iphone, customer, complained, time, ...</td>\n",
       "      <td>verizon iphone customer complained time fell b...</td>\n",
       "    </tr>\n",
       "  </tbody>\n",
       "</table>\n",
       "<p>9089 rows × 7 columns</p>\n",
       "</div>"
      ],
      "text/plain": [
       "                                             tweet_text         directed_at  \\\n",
       "0     .@wesley83 i have a 3g iphone. after 3 hrs twe...              iPhone   \n",
       "1     @jessedee know about @fludapp ? awesome ipad/i...  iPad or iPhone App   \n",
       "2     @swonderlin can not wait for #ipad 2 also. the...                iPad   \n",
       "3     @sxsw i hope this year's festival isn't as cra...  iPad or iPhone App   \n",
       "4     @sxtxstate great stuff on fri #sxsw: marissa m...              Google   \n",
       "...                                                 ...                 ...   \n",
       "9084  @mention yup, but i don't have a third app yet...                 NaN   \n",
       "9085                      ipad everywhere. #sxsw {link}                iPad   \n",
       "9086  wave, buzz... rt @mention we interrupt your re...                 NaN   \n",
       "9087  google's zeiger, a physician never reported po...                 NaN   \n",
       "9088  some verizon iphone customers complained their...                 NaN   \n",
       "\n",
       "                                 emotion  emotion_num   brand  \\\n",
       "0                       Negative emotion           -1   Apple   \n",
       "1                       Positive emotion            1   Apple   \n",
       "2                       Positive emotion            1   Apple   \n",
       "3                       Negative emotion           -1   Apple   \n",
       "4                       Positive emotion            1  Google   \n",
       "...                                  ...          ...     ...   \n",
       "9084  No emotion toward brand or product            0  Google   \n",
       "9085                    Positive emotion            1   Apple   \n",
       "9086  No emotion toward brand or product            0  Google   \n",
       "9087  No emotion toward brand or product            0  Google   \n",
       "9088  No emotion toward brand or product            0   Apple   \n",
       "\n",
       "                                   tweet_text_tokenized  \\\n",
       "0     [wesley83, 3g, iphone, hr, tweeting, rise_aust...   \n",
       "1     [jessedee, know, fludapp, awesome, ipad, iphon...   \n",
       "2            [swonderlin, wait, ipad, also, sale, sxsw]   \n",
       "3     [sxsw, hope, year, festival, crashy, year, iph...   \n",
       "4     [sxtxstate, great, stuff, fri, sxsw, marissa, ...   \n",
       "...                                                 ...   \n",
       "9084  [mention, yup, third, app, yet, android, sugge...   \n",
       "9085                     [ipad, everywhere, sxsw, link]   \n",
       "9086  [wave, buzz, rt, mention, interrupt, regularly...   \n",
       "9087  [google, zeiger, physician, never, reported, p...   \n",
       "9088  [verizon, iphone, customer, complained, time, ...   \n",
       "\n",
       "                                          joined_tokens  \n",
       "0     wesley83 3g iphone hr tweeting rise_austin dea...  \n",
       "1     jessedee know fludapp awesome ipad iphone app ...  \n",
       "2                   swonderlin wait ipad also sale sxsw  \n",
       "3     sxsw hope year festival crashy year iphone app...  \n",
       "4     sxtxstate great stuff fri sxsw marissa mayer g...  \n",
       "...                                                 ...  \n",
       "9084  mention yup third app yet android suggestion s...  \n",
       "9085                          ipad everywhere sxsw link  \n",
       "9086  wave buzz rt mention interrupt regularly sched...  \n",
       "9087  google zeiger physician never reported potenti...  \n",
       "9088  verizon iphone customer complained time fell b...  \n",
       "\n",
       "[9089 rows x 7 columns]"
      ]
     },
     "execution_count": 10,
     "metadata": {},
     "output_type": "execute_result"
    }
   ],
   "source": [
    "# instantiating Via_GoGo()\n",
    "vg = VIA_GoGo()\n",
    "\n",
    "# Creating a cleaned and shaped dataframe\n",
    "clean_df = vg.clean_tokenizer(tweet_df, tokenizer, sw)\n",
    "clean_df"
   ]
  },
  {
   "cell_type": "code",
   "execution_count": 11,
   "metadata": {},
   "outputs": [],
   "source": [
    "binary_df = clean_df[clean_df.emotion_num != 0]"
   ]
  },
  {
   "cell_type": "code",
   "execution_count": 12,
   "metadata": {},
   "outputs": [
    {
     "data": {
      "image/png": "[encoded data removed]",
      "text/plain": [
       "<Figure size 720x432 with 1 Axes>"
      ]
     },
     "metadata": {},
     "output_type": "display_data"
    }
   ],
   "source": [
    "# visualize the counts of each emotion type\n",
    "sns.set_theme(style=\"darkgrid\")\n",
    "fig, ax = plt.subplots(figsize=(10,6))\n",
    "\n",
    "ax = sns.countplot(\n",
    "    data=binary_df, \n",
    "    x=\"directed_at\",\n",
    "    order=binary_df.brand.value_counts().index)\n",
    "\n",
    "ax.set_title('Type of Emotions in Tweets',fontsize='x-large')\n",
    "ax.set_xlabel('Emotion',fontsize='large')\n",
    "ax.set_ylabel('Count',fontsize='large')\n",
    "plt.xticks(range(2), ['Positive','Negative'],fontweight='light', fontsize='large')\n",
    "\n",
    "plt.show();"
   ]
  },
  {
   "cell_type": "markdown",
   "metadata": {},
   "source": [
    "### Modeling Sections\n",
    "1. Baseline\n",
    "2. Tuned\n",
    "3. Word2Vec\n",
    "4. Neural Network"
   ]
  },
  {
   "cell_type": "code",
   "execution_count": 13,
   "metadata": {},
   "outputs": [],
   "source": [
    "X_train, X_test, y_train, y_test = train_test_split(binary_df.joined_tokens, \n",
    "                                                    binary_df.emotion, \n",
    "                                                    test_size= 0.25,\n",
    "                                                    random_state= 5)"
   ]
  },
  {
   "cell_type": "code",
   "execution_count": 14,
   "metadata": {},
   "outputs": [],
   "source": [
    "X_train_mc, X_test_mc, y_train_mc, y_test_mc = train_test_split(clean_df.joined_tokens, \n",
    "                                                    clean_df.emotion, \n",
    "                                                    test_size= 0.25,\n",
    "                                                    random_state= 5)"
   ]
  },
  {
   "cell_type": "markdown",
   "metadata": {},
   "source": [
    "#### Baseline"
   ]
  },
  {
   "cell_type": "code",
   "execution_count": 15,
   "metadata": {},
   "outputs": [],
   "source": [
    "# Using Linear Support Vector Machine\n",
    "sgd = Pipeline([('vect', CountVectorizer()),\n",
    "               ('tfidf', TfidfTransformer()),\n",
    "               ('clf', SGDClassifier()),\n",
    "              ])\n",
    "\n",
    "# Using Naive Bayes\n",
    "naive = Pipeline([('vect', CountVectorizer()),\n",
    "               ('tfidf', TfidfTransformer()),\n",
    "               ('clf', MultinomialNB()),\n",
    "              ])\n",
    "\n",
    "# Using Logistic Regression\n",
    "lin_reg = Pipeline([('vect', CountVectorizer()),\n",
    "               ('tfidf', TfidfTransformer()),\n",
    "               ('clf', LogisticRegression()),\n",
    "              ])\n"
   ]
  },
  {
   "cell_type": "code",
   "execution_count": 16,
   "metadata": {},
   "outputs": [
    {
     "name": "stdout",
     "output_type": "stream",
     "text": [
      "accuracy 0.8782412626832018\n"
     ]
    }
   ],
   "source": [
    "sgd.fit(X_train, y_train)\n",
    "\n",
    "y_pred = sgd.predict(X_test)\n",
    "\n",
    "print('accuracy %s' % accuracy_score(y_pred, y_test))"
   ]
  },
  {
   "cell_type": "code",
   "execution_count": 17,
   "metadata": {},
   "outputs": [
    {
     "name": "stdout",
     "output_type": "stream",
     "text": [
      "accuracy 0.8331454340473506\n"
     ]
    }
   ],
   "source": [
    "naive.fit(X_train, y_train)\n",
    "\n",
    "y_pred = naive.predict(X_test)\n",
    "\n",
    "print('accuracy %s' % accuracy_score(y_pred, y_test))"
   ]
  },
  {
   "cell_type": "code",
   "execution_count": 18,
   "metadata": {},
   "outputs": [
    {
     "name": "stdout",
     "output_type": "stream",
     "text": [
      "accuracy 0.8365276211950394\n"
     ]
    }
   ],
   "source": [
    "lin_reg.fit(X_train, y_train)\n",
    "\n",
    "y_pred = lin_reg.predict(X_test)\n",
    "\n",
    "print('accuracy %s' % accuracy_score(y_pred, y_test))"
   ]
  },
  {
   "cell_type": "markdown",
   "metadata": {},
   "source": [
    "#### Tuned"
   ]
  },
  {
   "cell_type": "markdown",
   "metadata": {},
   "source": [
    "##### Binary"
   ]
  },
  {
   "cell_type": "code",
   "execution_count": 19,
   "metadata": {},
   "outputs": [
    {
     "name": "stdout",
     "output_type": "stream",
     "text": [
      "accuracy 0.8906426155580609\n"
     ]
    }
   ],
   "source": [
    "sgd_tuned = Pipeline([('vect', CountVectorizer(ngram_range=(1,2))),\n",
    "               ('tfidf', TfidfTransformer(smooth_idf=False)),\n",
    "               ('clf', SGDClassifier())\n",
    "              ])\n",
    "sgd_tuned.fit(X_train, y_train)\n",
    "\n",
    "y_pred = sgd_tuned.predict(X_test)\n",
    "\n",
    "print('accuracy %s' % accuracy_score(y_pred, y_test))"
   ]
  },
  {
   "cell_type": "code",
   "execution_count": 20,
   "metadata": {},
   "outputs": [
    {
     "name": "stdout",
     "output_type": "stream",
     "text": [
      "accuracy 0.8421645997745209\n"
     ]
    }
   ],
   "source": [
    "naive_tuned = Pipeline([('vect', CountVectorizer(ngram_range=(2,2))),\n",
    "               ('tfidf', TfidfTransformer()),\n",
    "               ('clf', MultinomialNB()),\n",
    "              ])\n",
    "naive_tuned.fit(X_train, y_train)\n",
    "\n",
    "y_pred = naive_tuned.predict(X_test)\n",
    "\n",
    "print('accuracy %s' % accuracy_score(y_pred, y_test))"
   ]
  },
  {
   "cell_type": "code",
   "execution_count": 21,
   "metadata": {},
   "outputs": [
    {
     "name": "stdout",
     "output_type": "stream",
     "text": [
      "accuracy 0.830890642615558\n"
     ]
    }
   ],
   "source": [
    "lin_reg_tuned = Pipeline([('vect', CountVectorizer(ngram_range=(1,2))),\n",
    "               ('tfidf', TfidfTransformer()),\n",
    "               ('clf', LogisticRegression(n_jobs=5)),\n",
    "              ])\n",
    "lin_reg_tuned.fit(X_train, y_train)\n",
    "\n",
    "y_pred = lin_reg_tuned.predict(X_test)\n",
    "\n",
    "print('accuracy %s' % accuracy_score(y_pred, y_test))"
   ]
  },
  {
   "cell_type": "markdown",
   "metadata": {},
   "source": [
    "##### Multiclass"
   ]
  },
  {
   "cell_type": "code",
   "execution_count": 37,
   "metadata": {},
   "outputs": [
    {
     "name": "stdout",
     "output_type": "stream",
     "text": [
      "accuracy 0.7030356357237132\n"
     ]
    }
   ],
   "source": [
    "sge_tuned_mc = Pipeline([('vect', CountVectorizer(ngram_range=(1,2))),\n",
    "               ('tfidf', TfidfTransformer(smooth_idf=False)),\n",
    "               ('clf', SGDClassifier())\n",
    "              ])\n",
    "sge_tuned_mc.fit(X_train_mc, y_train_mc)\n",
    "\n",
    "y_pred = sge_tuned_mc.predict(X_test_mc)\n",
    "\n",
    "print('accuracy %s' % accuracy_score(y_pred, y_test_mc))"
   ]
  },
  {
   "cell_type": "code",
   "execution_count": 38,
   "metadata": {},
   "outputs": [
    {
     "name": "stdout",
     "output_type": "stream",
     "text": [
      "accuracy 0.6612406511218654\n"
     ]
    }
   ],
   "source": [
    "naive_tuned_mc = Pipeline([('vect', CountVectorizer(ngram_range=(2,2))),\n",
    "               ('tfidf', TfidfTransformer()),\n",
    "               ('clf', MultinomialNB()),\n",
    "              ])\n",
    "naive_tuned_mc.fit(X_train_mc, y_train_mc)\n",
    "\n",
    "y_pred = naive_tuned_mc.predict(X_test_mc)\n",
    "\n",
    "print('accuracy %s' % accuracy_score(y_pred, y_test_mc))"
   ]
  },
  {
   "cell_type": "code",
   "execution_count": 39,
   "metadata": {},
   "outputs": [
    {
     "name": "stdout",
     "output_type": "stream",
     "text": [
      "accuracy 0.32028156621205456\n"
     ]
    }
   ],
   "source": [
    "lin_reg_tuned_mc = Pipeline([('vect', CountVectorizer(ngram_range=(1,2))),\n",
    "               ('tfidf', TfidfTransformer()),\n",
    "               ('clf', LogisticRegression(n_jobs=5)),\n",
    "              ])\n",
    "lin_reg_tuned_mc.fit(X_train_mc, y_train_mc)\n",
    "\n",
    "y_pred = lin_reg_tuned.predict(X_test_mc)\n",
    "\n",
    "print('accuracy %s' % accuracy_score(y_pred, y_test_mc))"
   ]
  },
  {
   "cell_type": "markdown",
   "metadata": {},
   "source": [
    "#### Word2Vec"
   ]
  },
  {
   "cell_type": "code",
   "execution_count": 22,
   "metadata": {},
   "outputs": [
    {
     "data": {
      "text/plain": [
       "(565258, 873220)"
      ]
     },
     "execution_count": 22,
     "metadata": {},
     "output_type": "execute_result"
    }
   ],
   "source": [
    "model_w2v = gensim.models.Word2Vec(\n",
    "            sentences=binary_df.tweet_text_tokenized,\n",
    "            size=200, # desired no. of features/independent variables \n",
    "            window=5, # context window size\n",
    "            min_count=2,\n",
    "            sg = 1, # 1 for skip-gram model\n",
    "            hs = 0,\n",
    "            negative = 10, # for negative sampling\n",
    "            workers= 2, # no.of cores\n",
    "            seed = 34)\n",
    "\n",
    "model_w2v.train(binary_df.tweet_text_tokenized, total_examples=len(binary_df.tweet_text_tokenized), epochs=20)"
   ]
  },
  {
   "cell_type": "code",
   "execution_count": 23,
   "metadata": {},
   "outputs": [
    {
     "data": {
      "text/plain": [
       "array([ 8.40480566e-01,  1.04406901e-01, -2.21923634e-01, -3.45284849e-01,\n",
       "        2.09649891e-01, -2.59002328e-01, -1.55095205e-01, -1.46833733e-01,\n",
       "        3.86625737e-01, -3.72610055e-02, -1.04466053e-02,  3.23707261e-03,\n",
       "        3.79830003e-01,  2.90242672e-01,  3.06208491e-01, -1.03111193e-01,\n",
       "       -6.59302920e-02,  1.01137064e-01,  4.25848365e-01,  6.54929727e-02,\n",
       "       -5.54777443e-01,  6.22184500e-02,  1.13680745e-02, -4.08503376e-02,\n",
       "       -4.34520282e-02,  2.96843618e-01,  4.31888923e-02,  1.14047509e-02,\n",
       "        2.81761438e-01, -1.59788370e-01, -5.03734887e-01,  1.35861441e-01,\n",
       "        1.71200410e-01, -1.23540990e-01,  4.75328952e-01, -7.60116279e-02,\n",
       "       -2.19279259e-01, -1.51480421e-01, -2.86596239e-01, -1.55193463e-01,\n",
       "        1.10469259e-01,  7.55901039e-02, -7.98735619e-02,  2.12301612e-01,\n",
       "       -1.82775676e-01,  2.44058236e-01,  9.40275714e-02, -6.16497099e-01,\n",
       "        2.77727544e-01,  2.49661952e-01,  7.43917301e-02,  9.74390209e-02,\n",
       "        4.14096653e-01,  4.29237336e-02,  2.45666161e-01, -4.39420849e-01,\n",
       "        1.48726165e-01, -1.61557514e-02,  1.70166329e-01,  2.84562916e-01,\n",
       "        3.46687198e-01,  2.10805633e-03, -1.38990417e-01,  5.78777082e-02,\n",
       "        2.24129289e-01,  3.45640957e-01,  7.69214481e-02,  3.86898071e-01,\n",
       "       -1.19156919e-01,  1.52772784e-01, -1.41162291e-01, -4.11302336e-02,\n",
       "       -3.95832136e-02,  1.17517568e-01,  5.76221347e-02, -1.44293783e-02,\n",
       "        9.49238837e-02,  1.20454773e-01, -4.15887758e-02,  2.43713319e-01,\n",
       "       -4.38943267e-01, -3.18091303e-01,  1.30640492e-01, -1.55533001e-01,\n",
       "       -1.80606455e-01,  1.00143284e-01,  1.48010120e-01, -1.43169453e-02,\n",
       "        1.70552373e-01, -4.64422315e-01, -3.20502311e-01, -4.02898759e-01,\n",
       "        2.98178136e-01,  2.09276482e-01,  1.94656938e-01,  5.96443228e-02,\n",
       "        1.33538544e-01, -2.92851299e-01, -2.59702981e-01,  1.03211612e-01,\n",
       "        1.05309740e-01, -4.09854233e-01, -2.57413149e-01,  1.06797829e-01,\n",
       "        1.54391467e-03,  1.26171172e-01, -1.93154231e-01, -7.94709101e-02,\n",
       "        3.54680151e-01,  8.34871903e-02, -9.33847055e-02, -2.26354808e-01,\n",
       "        3.46464097e-01, -2.51283228e-01,  7.58275017e-02, -4.27410841e-01,\n",
       "        2.47517630e-01,  9.56725553e-02, -3.54781039e-02,  2.06952602e-01,\n",
       "       -1.59861103e-01,  8.85858014e-02,  1.02319509e-01, -1.15380459e-01,\n",
       "        3.70456487e-01, -1.18400477e-01,  7.24857599e-02, -2.76867598e-01,\n",
       "       -7.29104802e-02,  5.88904381e-01,  1.86155543e-01,  2.09110200e-01,\n",
       "       -6.00928292e-02, -2.54401296e-01, -1.41946331e-01, -1.10307068e-04,\n",
       "        2.07454786e-01,  4.95198160e-01,  2.97406375e-01, -2.05723476e-03,\n",
       "        2.20162466e-01,  2.84031451e-01, -2.39594102e-01, -4.60162424e-02,\n",
       "        1.34791762e-01,  5.16225517e-01, -1.32792100e-01,  9.66102704e-02,\n",
       "        2.60535985e-01, -1.16655208e-01,  2.89974976e-02,  1.18651085e-01,\n",
       "        3.77446383e-01, -2.19913214e-01, -1.88707545e-01, -1.09748691e-01,\n",
       "        2.67846465e-01,  1.26312822e-01,  3.08297455e-01, -1.24995522e-02,\n",
       "       -2.83926427e-01,  2.13727400e-01, -7.46827852e-03,  1.33604854e-01,\n",
       "        1.79085985e-01, -3.07389963e-02, -3.94050837e-01,  2.88840234e-01,\n",
       "        1.86836198e-01, -8.53644535e-02,  6.21340461e-02,  4.36501443e-01,\n",
       "       -2.40743577e-01, -1.31977722e-01, -1.64881259e-01,  1.19060293e-01,\n",
       "       -4.14097495e-03,  2.84158200e-01,  2.66283959e-01,  5.66401958e-01,\n",
       "        1.10119656e-01,  2.33937860e-01,  6.66107535e-02, -1.38873130e-01,\n",
       "       -2.73419738e-01, -2.01114997e-01, -4.57605183e-01,  2.44034483e-04,\n",
       "       -2.51262248e-01,  8.17430615e-02, -1.88668445e-01,  8.41788482e-03,\n",
       "        4.27494317e-01, -2.94601709e-01, -4.20950741e-01,  1.08627856e-01,\n",
       "       -1.35295689e-01, -3.37401539e-01, -1.31291553e-01,  2.31963530e-01],\n",
       "      dtype=float32)"
      ]
     },
     "execution_count": 23,
     "metadata": {},
     "output_type": "execute_result"
    }
   ],
   "source": [
    "model_w2v.wv['iphone']"
   ]
  },
  {
   "cell_type": "code",
   "execution_count": 24,
   "metadata": {},
   "outputs": [
    {
     "data": {
      "text/plain": [
       "(200,)"
      ]
     },
     "execution_count": 24,
     "metadata": {},
     "output_type": "execute_result"
    }
   ],
   "source": [
    "model_w2v.wv['iphone'].shape"
   ]
  },
  {
   "cell_type": "code",
   "execution_count": 25,
   "metadata": {},
   "outputs": [
    {
     "data": {
      "text/plain": [
       "[('self', 0.5908747911453247),\n",
       " ('discovr', 0.5882380604743958),\n",
       " ('bb', 0.5862107276916504),\n",
       " ('sync', 0.5803309679031372),\n",
       " ('prep', 0.5718162059783936),\n",
       " ('speedup', 0.5715924501419067),\n",
       " ('breakdown', 0.5669934153556824),\n",
       " ('3x', 0.5660941004753113),\n",
       " ('smartphone', 0.5580438375473022),\n",
       " ('yo', 0.5574155449867249)]"
      ]
     },
     "execution_count": 25,
     "metadata": {},
     "output_type": "execute_result"
    }
   ],
   "source": [
    "model_w2v.wv.most_similar(positive=\"iphone\")"
   ]
  },
  {
   "cell_type": "code",
   "execution_count": 26,
   "metadata": {},
   "outputs": [],
   "source": [
    "def word_vector(tokens, size):\n",
    "    vec = np.zeros(size).reshape((1, size))\n",
    "    count = 0.\n",
    "    for word in tokens:\n",
    "        try:\n",
    "            vec += model_w2v.wv[word].reshape((1, size))\n",
    "            count += 1.\n",
    "        except KeyError: # handling the case where the token is not in vocabulary\n",
    "                         \n",
    "            continue\n",
    "    if count != 0:\n",
    "        vec /= count\n",
    "    return vec"
   ]
  },
  {
   "cell_type": "code",
   "execution_count": 27,
   "metadata": {},
   "outputs": [],
   "source": [
    "binary_df.reset_index(inplace=True, drop=True)"
   ]
  },
  {
   "cell_type": "code",
   "execution_count": 28,
   "metadata": {},
   "outputs": [
    {
     "data": {
      "text/plain": [
       "(3548, 200)"
      ]
     },
     "execution_count": 28,
     "metadata": {},
     "output_type": "execute_result"
    }
   ],
   "source": [
    "wordvec_arrays = np.zeros((len(binary_df.tweet_text_tokenized), 200))\n",
    "\n",
    "for i in range(len(binary_df.emotion_num)):\n",
    "    wordvec_arrays[i,:] = word_vector(binary_df.tweet_text_tokenized[i], 200)\n",
    "    \n",
    "wordvec_df = pd.DataFrame(wordvec_arrays)\n",
    "wordvec_df.shape   "
   ]
  },
  {
   "cell_type": "code",
   "execution_count": 29,
   "metadata": {},
   "outputs": [
    {
     "data": {
      "text/html": [
       "<div>\n",
       "<style scoped>\n",
       "    .dataframe tbody tr th:only-of-type {\n",
       "        vertical-align: middle;\n",
       "    }\n",
       "\n",
       "    .dataframe tbody tr th {\n",
       "        vertical-align: top;\n",
       "    }\n",
       "\n",
       "    .dataframe thead th {\n",
       "        text-align: right;\n",
       "    }\n",
       "</style>\n",
       "<table border=\"1\" class=\"dataframe\">\n",
       "  <thead>\n",
       "    <tr style=\"text-align: right;\">\n",
       "      <th></th>\n",
       "      <th>0</th>\n",
       "      <th>1</th>\n",
       "      <th>2</th>\n",
       "      <th>3</th>\n",
       "      <th>4</th>\n",
       "      <th>5</th>\n",
       "      <th>6</th>\n",
       "      <th>7</th>\n",
       "      <th>8</th>\n",
       "      <th>9</th>\n",
       "      <th>...</th>\n",
       "      <th>190</th>\n",
       "      <th>191</th>\n",
       "      <th>192</th>\n",
       "      <th>193</th>\n",
       "      <th>194</th>\n",
       "      <th>195</th>\n",
       "      <th>196</th>\n",
       "      <th>197</th>\n",
       "      <th>198</th>\n",
       "      <th>199</th>\n",
       "    </tr>\n",
       "  </thead>\n",
       "  <tbody>\n",
       "    <tr>\n",
       "      <th>0</th>\n",
       "      <td>0.195388</td>\n",
       "      <td>-0.045139</td>\n",
       "      <td>-0.020904</td>\n",
       "      <td>-0.207945</td>\n",
       "      <td>-0.005804</td>\n",
       "      <td>-0.188744</td>\n",
       "      <td>0.053654</td>\n",
       "      <td>-0.148626</td>\n",
       "      <td>0.229850</td>\n",
       "      <td>-0.091707</td>\n",
       "      <td>...</td>\n",
       "      <td>0.082532</td>\n",
       "      <td>0.203358</td>\n",
       "      <td>0.064944</td>\n",
       "      <td>-0.007716</td>\n",
       "      <td>-0.202427</td>\n",
       "      <td>-0.070608</td>\n",
       "      <td>-0.146051</td>\n",
       "      <td>0.028369</td>\n",
       "      <td>0.086869</td>\n",
       "      <td>0.080180</td>\n",
       "    </tr>\n",
       "    <tr>\n",
       "      <th>1</th>\n",
       "      <td>0.477496</td>\n",
       "      <td>-0.123443</td>\n",
       "      <td>-0.205695</td>\n",
       "      <td>-0.082045</td>\n",
       "      <td>0.036642</td>\n",
       "      <td>-0.061317</td>\n",
       "      <td>-0.022295</td>\n",
       "      <td>-0.150696</td>\n",
       "      <td>0.274358</td>\n",
       "      <td>-0.024168</td>\n",
       "      <td>...</td>\n",
       "      <td>-0.087496</td>\n",
       "      <td>0.193107</td>\n",
       "      <td>0.024367</td>\n",
       "      <td>-0.003594</td>\n",
       "      <td>-0.327490</td>\n",
       "      <td>-0.065962</td>\n",
       "      <td>-0.191378</td>\n",
       "      <td>-0.025600</td>\n",
       "      <td>0.103692</td>\n",
       "      <td>0.053816</td>\n",
       "    </tr>\n",
       "    <tr>\n",
       "      <th>2</th>\n",
       "      <td>0.369176</td>\n",
       "      <td>-0.105440</td>\n",
       "      <td>-0.136747</td>\n",
       "      <td>-0.165675</td>\n",
       "      <td>-0.121585</td>\n",
       "      <td>-0.156966</td>\n",
       "      <td>-0.010812</td>\n",
       "      <td>-0.184950</td>\n",
       "      <td>0.142996</td>\n",
       "      <td>0.176414</td>\n",
       "      <td>...</td>\n",
       "      <td>-0.161702</td>\n",
       "      <td>0.347264</td>\n",
       "      <td>0.000702</td>\n",
       "      <td>0.087582</td>\n",
       "      <td>-0.220137</td>\n",
       "      <td>-0.153184</td>\n",
       "      <td>-0.142272</td>\n",
       "      <td>-0.019898</td>\n",
       "      <td>0.356575</td>\n",
       "      <td>0.033329</td>\n",
       "    </tr>\n",
       "    <tr>\n",
       "      <th>3</th>\n",
       "      <td>0.339806</td>\n",
       "      <td>-0.204081</td>\n",
       "      <td>-0.267234</td>\n",
       "      <td>-0.177662</td>\n",
       "      <td>-0.082248</td>\n",
       "      <td>-0.059037</td>\n",
       "      <td>-0.112684</td>\n",
       "      <td>-0.204461</td>\n",
       "      <td>0.252783</td>\n",
       "      <td>-0.050706</td>\n",
       "      <td>...</td>\n",
       "      <td>-0.093247</td>\n",
       "      <td>0.220037</td>\n",
       "      <td>0.087633</td>\n",
       "      <td>0.049236</td>\n",
       "      <td>-0.133473</td>\n",
       "      <td>-0.096022</td>\n",
       "      <td>-0.159809</td>\n",
       "      <td>-0.120670</td>\n",
       "      <td>-0.006783</td>\n",
       "      <td>0.074604</td>\n",
       "    </tr>\n",
       "    <tr>\n",
       "      <th>4</th>\n",
       "      <td>0.267221</td>\n",
       "      <td>0.043595</td>\n",
       "      <td>-0.076521</td>\n",
       "      <td>-0.036774</td>\n",
       "      <td>-0.132434</td>\n",
       "      <td>-0.141688</td>\n",
       "      <td>0.128191</td>\n",
       "      <td>-0.125312</td>\n",
       "      <td>0.029950</td>\n",
       "      <td>-0.167062</td>\n",
       "      <td>...</td>\n",
       "      <td>0.070714</td>\n",
       "      <td>0.193034</td>\n",
       "      <td>0.159536</td>\n",
       "      <td>0.151757</td>\n",
       "      <td>-0.153612</td>\n",
       "      <td>-0.097587</td>\n",
       "      <td>-0.125206</td>\n",
       "      <td>-0.079056</td>\n",
       "      <td>0.194694</td>\n",
       "      <td>0.082846</td>\n",
       "    </tr>\n",
       "    <tr>\n",
       "      <th>...</th>\n",
       "      <td>...</td>\n",
       "      <td>...</td>\n",
       "      <td>...</td>\n",
       "      <td>...</td>\n",
       "      <td>...</td>\n",
       "      <td>...</td>\n",
       "      <td>...</td>\n",
       "      <td>...</td>\n",
       "      <td>...</td>\n",
       "      <td>...</td>\n",
       "      <td>...</td>\n",
       "      <td>...</td>\n",
       "      <td>...</td>\n",
       "      <td>...</td>\n",
       "      <td>...</td>\n",
       "      <td>...</td>\n",
       "      <td>...</td>\n",
       "      <td>...</td>\n",
       "      <td>...</td>\n",
       "      <td>...</td>\n",
       "      <td>...</td>\n",
       "    </tr>\n",
       "    <tr>\n",
       "      <th>3543</th>\n",
       "      <td>0.296825</td>\n",
       "      <td>-0.094026</td>\n",
       "      <td>-0.057181</td>\n",
       "      <td>-0.160952</td>\n",
       "      <td>-0.026103</td>\n",
       "      <td>-0.076795</td>\n",
       "      <td>0.088006</td>\n",
       "      <td>-0.161856</td>\n",
       "      <td>0.082427</td>\n",
       "      <td>0.030869</td>\n",
       "      <td>...</td>\n",
       "      <td>-0.051621</td>\n",
       "      <td>0.152122</td>\n",
       "      <td>0.152381</td>\n",
       "      <td>0.096345</td>\n",
       "      <td>-0.218009</td>\n",
       "      <td>-0.127479</td>\n",
       "      <td>-0.176919</td>\n",
       "      <td>-0.002204</td>\n",
       "      <td>0.175682</td>\n",
       "      <td>0.176534</td>\n",
       "    </tr>\n",
       "    <tr>\n",
       "      <th>3544</th>\n",
       "      <td>0.447237</td>\n",
       "      <td>-0.165526</td>\n",
       "      <td>-0.199718</td>\n",
       "      <td>-0.239787</td>\n",
       "      <td>-0.127820</td>\n",
       "      <td>-0.237660</td>\n",
       "      <td>-0.061822</td>\n",
       "      <td>-0.123308</td>\n",
       "      <td>0.135005</td>\n",
       "      <td>-0.129812</td>\n",
       "      <td>...</td>\n",
       "      <td>-0.188377</td>\n",
       "      <td>0.215287</td>\n",
       "      <td>0.090052</td>\n",
       "      <td>0.207491</td>\n",
       "      <td>-0.163849</td>\n",
       "      <td>-0.087615</td>\n",
       "      <td>-0.037014</td>\n",
       "      <td>-0.032148</td>\n",
       "      <td>0.036740</td>\n",
       "      <td>0.257301</td>\n",
       "    </tr>\n",
       "    <tr>\n",
       "      <th>3545</th>\n",
       "      <td>0.407153</td>\n",
       "      <td>-0.064706</td>\n",
       "      <td>-0.082147</td>\n",
       "      <td>-0.163622</td>\n",
       "      <td>0.010846</td>\n",
       "      <td>-0.191077</td>\n",
       "      <td>0.014353</td>\n",
       "      <td>0.030741</td>\n",
       "      <td>0.111978</td>\n",
       "      <td>-0.057722</td>\n",
       "      <td>...</td>\n",
       "      <td>-0.046559</td>\n",
       "      <td>0.266897</td>\n",
       "      <td>0.177574</td>\n",
       "      <td>0.168708</td>\n",
       "      <td>-0.231362</td>\n",
       "      <td>-0.050809</td>\n",
       "      <td>-0.067201</td>\n",
       "      <td>-0.052030</td>\n",
       "      <td>0.015026</td>\n",
       "      <td>0.151459</td>\n",
       "    </tr>\n",
       "    <tr>\n",
       "      <th>3546</th>\n",
       "      <td>0.357379</td>\n",
       "      <td>-0.052504</td>\n",
       "      <td>-0.138399</td>\n",
       "      <td>-0.061771</td>\n",
       "      <td>-0.043778</td>\n",
       "      <td>-0.082938</td>\n",
       "      <td>-0.028001</td>\n",
       "      <td>-0.065955</td>\n",
       "      <td>0.211571</td>\n",
       "      <td>-0.078986</td>\n",
       "      <td>...</td>\n",
       "      <td>-0.073934</td>\n",
       "      <td>0.158032</td>\n",
       "      <td>0.107940</td>\n",
       "      <td>0.097200</td>\n",
       "      <td>-0.183046</td>\n",
       "      <td>-0.067450</td>\n",
       "      <td>-0.186423</td>\n",
       "      <td>-0.086903</td>\n",
       "      <td>0.055031</td>\n",
       "      <td>0.100183</td>\n",
       "    </tr>\n",
       "    <tr>\n",
       "      <th>3547</th>\n",
       "      <td>0.316099</td>\n",
       "      <td>-0.150394</td>\n",
       "      <td>-0.135704</td>\n",
       "      <td>-0.273474</td>\n",
       "      <td>-0.039570</td>\n",
       "      <td>-0.231705</td>\n",
       "      <td>0.051361</td>\n",
       "      <td>-0.133769</td>\n",
       "      <td>0.207820</td>\n",
       "      <td>0.047567</td>\n",
       "      <td>...</td>\n",
       "      <td>-0.148500</td>\n",
       "      <td>0.338814</td>\n",
       "      <td>-0.031964</td>\n",
       "      <td>0.060254</td>\n",
       "      <td>-0.194647</td>\n",
       "      <td>-0.082797</td>\n",
       "      <td>0.100700</td>\n",
       "      <td>-0.050655</td>\n",
       "      <td>0.083768</td>\n",
       "      <td>0.091532</td>\n",
       "    </tr>\n",
       "  </tbody>\n",
       "</table>\n",
       "<p>3548 rows × 200 columns</p>\n",
       "</div>"
      ],
      "text/plain": [
       "           0         1         2         3         4         5         6    \\\n",
       "0     0.195388 -0.045139 -0.020904 -0.207945 -0.005804 -0.188744  0.053654   \n",
       "1     0.477496 -0.123443 -0.205695 -0.082045  0.036642 -0.061317 -0.022295   \n",
       "2     0.369176 -0.105440 -0.136747 -0.165675 -0.121585 -0.156966 -0.010812   \n",
       "3     0.339806 -0.204081 -0.267234 -0.177662 -0.082248 -0.059037 -0.112684   \n",
       "4     0.267221  0.043595 -0.076521 -0.036774 -0.132434 -0.141688  0.128191   \n",
       "...        ...       ...       ...       ...       ...       ...       ...   \n",
       "3543  0.296825 -0.094026 -0.057181 -0.160952 -0.026103 -0.076795  0.088006   \n",
       "3544  0.447237 -0.165526 -0.199718 -0.239787 -0.127820 -0.237660 -0.061822   \n",
       "3545  0.407153 -0.064706 -0.082147 -0.163622  0.010846 -0.191077  0.014353   \n",
       "3546  0.357379 -0.052504 -0.138399 -0.061771 -0.043778 -0.082938 -0.028001   \n",
       "3547  0.316099 -0.150394 -0.135704 -0.273474 -0.039570 -0.231705  0.051361   \n",
       "\n",
       "           7         8         9    ...       190       191       192  \\\n",
       "0    -0.148626  0.229850 -0.091707  ...  0.082532  0.203358  0.064944   \n",
       "1    -0.150696  0.274358 -0.024168  ... -0.087496  0.193107  0.024367   \n",
       "2    -0.184950  0.142996  0.176414  ... -0.161702  0.347264  0.000702   \n",
       "3    -0.204461  0.252783 -0.050706  ... -0.093247  0.220037  0.087633   \n",
       "4    -0.125312  0.029950 -0.167062  ...  0.070714  0.193034  0.159536   \n",
       "...        ...       ...       ...  ...       ...       ...       ...   \n",
       "3543 -0.161856  0.082427  0.030869  ... -0.051621  0.152122  0.152381   \n",
       "3544 -0.123308  0.135005 -0.129812  ... -0.188377  0.215287  0.090052   \n",
       "3545  0.030741  0.111978 -0.057722  ... -0.046559  0.266897  0.177574   \n",
       "3546 -0.065955  0.211571 -0.078986  ... -0.073934  0.158032  0.107940   \n",
       "3547 -0.133769  0.207820  0.047567  ... -0.148500  0.338814 -0.031964   \n",
       "\n",
       "           193       194       195       196       197       198       199  \n",
       "0    -0.007716 -0.202427 -0.070608 -0.146051  0.028369  0.086869  0.080180  \n",
       "1    -0.003594 -0.327490 -0.065962 -0.191378 -0.025600  0.103692  0.053816  \n",
       "2     0.087582 -0.220137 -0.153184 -0.142272 -0.019898  0.356575  0.033329  \n",
       "3     0.049236 -0.133473 -0.096022 -0.159809 -0.120670 -0.006783  0.074604  \n",
       "4     0.151757 -0.153612 -0.097587 -0.125206 -0.079056  0.194694  0.082846  \n",
       "...        ...       ...       ...       ...       ...       ...       ...  \n",
       "3543  0.096345 -0.218009 -0.127479 -0.176919 -0.002204  0.175682  0.176534  \n",
       "3544  0.207491 -0.163849 -0.087615 -0.037014 -0.032148  0.036740  0.257301  \n",
       "3545  0.168708 -0.231362 -0.050809 -0.067201 -0.052030  0.015026  0.151459  \n",
       "3546  0.097200 -0.183046 -0.067450 -0.186423 -0.086903  0.055031  0.100183  \n",
       "3547  0.060254 -0.194647 -0.082797  0.100700 -0.050655  0.083768  0.091532  \n",
       "\n",
       "[3548 rows x 200 columns]"
      ]
     },
     "execution_count": 29,
     "metadata": {},
     "output_type": "execute_result"
    }
   ],
   "source": [
    "wordvec_df"
   ]
  },
  {
   "cell_type": "code",
   "execution_count": 30,
   "metadata": {},
   "outputs": [],
   "source": [
    "X_train, X_test, y_train, y_test = train_test_split(wordvec_df, \n",
    "                                                    binary_df.emotion_num, \n",
    "                                                    test_size= 0.25,\n",
    "                                                    random_state= 5)"
   ]
  },
  {
   "cell_type": "code",
   "execution_count": 31,
   "metadata": {},
   "outputs": [
    {
     "name": "stderr",
     "output_type": "stream",
     "text": [
      "[Parallel(n_jobs=1)]: Using backend SequentialBackend with 1 concurrent workers.\n"
     ]
    },
    {
     "name": "stdout",
     "output_type": "stream",
     "text": [
      "accuracy 0.8613303269447576\n"
     ]
    },
    {
     "name": "stderr",
     "output_type": "stream",
     "text": [
      "[Parallel(n_jobs=1)]: Done 500 out of 500 | elapsed:   12.7s finished\n",
      "[Parallel(n_jobs=1)]: Using backend SequentialBackend with 1 concurrent workers.\n",
      "[Parallel(n_jobs=1)]: Done 500 out of 500 | elapsed:    0.0s finished\n"
     ]
    }
   ],
   "source": [
    "rfc = RandomForestClassifier(n_estimators=500, criterion='gini', verbose=1)\n",
    "rfc.fit(X_train, y_train)\n",
    "\n",
    "y_pred = rfc.predict(X_test)\n",
    "\n",
    "print('accuracy %s' % accuracy_score(y_pred, y_test))"
   ]
  },
  {
   "cell_type": "code",
   "execution_count": 32,
   "metadata": {},
   "outputs": [
    {
     "name": "stdout",
     "output_type": "stream",
     "text": [
      "accuracy 0.8320180383314544\n"
     ]
    }
   ],
   "source": [
    "clf = SGDClassifier()\n",
    "\n",
    "clf.fit(X_train, y_train)\n",
    "y_pred = clf.predict(X_test)\n",
    "print('accuracy %s' % accuracy_score(y_pred, y_test))"
   ]
  },
  {
   "cell_type": "markdown",
   "metadata": {},
   "source": [
    "#### Neural Network"
   ]
  },
  {
   "cell_type": "code",
   "execution_count": 33,
   "metadata": {},
   "outputs": [],
   "source": [
    "X_train, X_test, y_train, y_test = train_test_split(binary_df.joined_tokens,\n",
    "                                                    binary_df.emotion_num, \n",
    "                                                    test_size= 0.25,\n",
    "                                                    random_state= 5)"
   ]
  },
  {
   "cell_type": "code",
   "execution_count": 34,
   "metadata": {},
   "outputs": [
    {
     "data": {
      "text/plain": [
       "(2661, 4750)"
      ]
     },
     "execution_count": 34,
     "metadata": {},
     "output_type": "execute_result"
    }
   ],
   "source": [
    "tfidf = TfidfVectorizer()\n",
    "\n",
    "X_train_vec = tfidf.fit_transform(X_train)\n",
    "X_test_vec = tfidf.transform(X_test)\n",
    "\n",
    "X_train_vec.shape"
   ]
  },
  {
   "cell_type": "code",
   "execution_count": 35,
   "metadata": {},
   "outputs": [],
   "source": [
    "model = Sequential()\n",
    "model.add(layers.Dense(600, input_dim=(4750), activation='relu'))\n",
    "model.add(Dropout(.1))\n",
    "model.add(layers.Dense(20, activation='relu'))\n",
    "model.add(layers.Dense(1, activation='sigmoid'))"
   ]
  },
  {
   "cell_type": "code",
   "execution_count": 36,
   "metadata": {},
   "outputs": [],
   "source": [
    "# model.compile(optimizer='adam',\n",
    "#               loss='binary_crossentropy',\n",
    "#               metrics=['accuracy'])\n",
    "\n",
    "# model.fit(X_train_vec, y_train, epochs=25, batch_size=100, validation_split=.25, verbose=1)"
   ]
  },
  {
   "cell_type": "markdown",
   "metadata": {},
   "source": [
    "### Model Improvement / Graphs / Confusion Matrix"
   ]
  },
  {
   "cell_type": "code",
   "execution_count": null,
   "metadata": {},
   "outputs": [],
   "source": []
  }
 ],
 "metadata": {
  "interpreter": {
   "hash": "84ac4771d5764d64b27213ab6683f1ab5061e80733e0bd642ee92a0b0c9907f0"
  },
  "kernelspec": {
   "display_name": "Python 3.8.12 ('learn-env')",
   "language": "python",
   "name": "python3"
  },
  "language_info": {
   "codemirror_mode": {
    "name": "ipython",
    "version": 3
   },
   "file_extension": ".py",
   "mimetype": "text/x-python",
   "name": "python",
   "nbconvert_exporter": "python",
   "pygments_lexer": "ipython3",
   "version": "3.8.12"
  },
  "orig_nbformat": 4
 },
 "nbformat": 4,
 "nbformat_minor": 2
}
