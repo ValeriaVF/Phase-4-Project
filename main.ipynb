{
 "cells": [
  {
   "cell_type": "markdown",
   "metadata": {},
   "source": [
    "# Main Jupyter Noootbook"
   ]
  },
  {
   "cell_type": "markdown",
   "metadata": {},
   "source": [
    "### Imports"
   ]
  },
  {
   "cell_type": "code",
   "execution_count": 1,
   "metadata": {},
   "outputs": [],
   "source": [
    "import pandas as pd\n",
    "import numpy as np\n",
    "import matplotlib.pyplot as plt\n",
    "from nltk.tokenize import RegexpTokenizer\n",
    "from nltk.corpus import stopwords\n",
    "from sklearn.feature_extraction.text import TfidfVectorizer, CountVectorizer\n",
    "from sklearn.naive_bayes import MultinomialNB\n",
    "from sklearn.pipeline import Pipeline\n",
    "from sklearn.feature_extraction.text import TfidfTransformer\n",
    "from sklearn.linear_model import SGDClassifier, LogisticRegression\n",
    "from sklearn.metrics import accuracy_score\n",
    "from sklearn.metrics import plot_confusion_matrix\n",
    "from sklearn.model_selection import train_test_split\n",
    "from nlp_preprocessing import VIA_GoGo\n",
    "import seaborn as sns\n",
    "import gensim\n",
    "from sklearn.ensemble import RandomForestClassifier\n",
    "\n",
    "from tensorflow.keras.layers import Dropout\n",
    "from tensorflow.keras.models import Sequential\n",
    "from tensorflow.keras import layers\n"
   ]
  },
  {
   "cell_type": "markdown",
   "metadata": {},
   "source": [
    "### Data Overview"
   ]
  },
  {
   "cell_type": "code",
   "execution_count": 2,
   "metadata": {},
   "outputs": [],
   "source": [
    "tweet_df = pd.read_csv('data\\db_tweet_emotion.csv', encoding= 'unicode_escape')"
   ]
  },
  {
   "cell_type": "code",
   "execution_count": 3,
   "metadata": {},
   "outputs": [
    {
     "data": {
      "text/html": [
       "<div>\n",
       "<style scoped>\n",
       "    .dataframe tbody tr th:only-of-type {\n",
       "        vertical-align: middle;\n",
       "    }\n",
       "\n",
       "    .dataframe tbody tr th {\n",
       "        vertical-align: top;\n",
       "    }\n",
       "\n",
       "    .dataframe thead th {\n",
       "        text-align: right;\n",
       "    }\n",
       "</style>\n",
       "<table border=\"1\" class=\"dataframe\">\n",
       "  <thead>\n",
       "    <tr style=\"text-align: right;\">\n",
       "      <th></th>\n",
       "      <th>tweet_text</th>\n",
       "      <th>emotion_in_tweet_is_directed_at</th>\n",
       "      <th>is_there_an_emotion_directed_at_a_brand_or_product</th>\n",
       "    </tr>\n",
       "  </thead>\n",
       "  <tbody>\n",
       "    <tr>\n",
       "      <th>0</th>\n",
       "      <td>.@wesley83 I have a 3G iPhone. After 3 hrs twe...</td>\n",
       "      <td>iPhone</td>\n",
       "      <td>Negative emotion</td>\n",
       "    </tr>\n",
       "    <tr>\n",
       "      <th>1</th>\n",
       "      <td>@jessedee Know about @fludapp ? Awesome iPad/i...</td>\n",
       "      <td>iPad or iPhone App</td>\n",
       "      <td>Positive emotion</td>\n",
       "    </tr>\n",
       "    <tr>\n",
       "      <th>2</th>\n",
       "      <td>@swonderlin Can not wait for #iPad 2 also. The...</td>\n",
       "      <td>iPad</td>\n",
       "      <td>Positive emotion</td>\n",
       "    </tr>\n",
       "    <tr>\n",
       "      <th>3</th>\n",
       "      <td>@sxsw I hope this year's festival isn't as cra...</td>\n",
       "      <td>iPad or iPhone App</td>\n",
       "      <td>Negative emotion</td>\n",
       "    </tr>\n",
       "    <tr>\n",
       "      <th>4</th>\n",
       "      <td>@sxtxstate great stuff on Fri #SXSW: Marissa M...</td>\n",
       "      <td>Google</td>\n",
       "      <td>Positive emotion</td>\n",
       "    </tr>\n",
       "    <tr>\n",
       "      <th>...</th>\n",
       "      <td>...</td>\n",
       "      <td>...</td>\n",
       "      <td>...</td>\n",
       "    </tr>\n",
       "    <tr>\n",
       "      <th>9088</th>\n",
       "      <td>Ipad everywhere. #SXSW {link}</td>\n",
       "      <td>iPad</td>\n",
       "      <td>Positive emotion</td>\n",
       "    </tr>\n",
       "    <tr>\n",
       "      <th>9089</th>\n",
       "      <td>Wave, buzz... RT @mention We interrupt your re...</td>\n",
       "      <td>NaN</td>\n",
       "      <td>No emotion toward brand or product</td>\n",
       "    </tr>\n",
       "    <tr>\n",
       "      <th>9090</th>\n",
       "      <td>Google's Zeiger, a physician never reported po...</td>\n",
       "      <td>NaN</td>\n",
       "      <td>No emotion toward brand or product</td>\n",
       "    </tr>\n",
       "    <tr>\n",
       "      <th>9091</th>\n",
       "      <td>Some Verizon iPhone customers complained their...</td>\n",
       "      <td>NaN</td>\n",
       "      <td>No emotion toward brand or product</td>\n",
       "    </tr>\n",
       "    <tr>\n",
       "      <th>9092</th>\n",
       "      <td>Ï¡Ïàü_ÊÎÒ£Áââ_£â_ÛâRT @...</td>\n",
       "      <td>NaN</td>\n",
       "      <td>No emotion toward brand or product</td>\n",
       "    </tr>\n",
       "  </tbody>\n",
       "</table>\n",
       "<p>9093 rows × 3 columns</p>\n",
       "</div>"
      ],
      "text/plain": [
       "                                             tweet_text  \\\n",
       "0     .@wesley83 I have a 3G iPhone. After 3 hrs twe...   \n",
       "1     @jessedee Know about @fludapp ? Awesome iPad/i...   \n",
       "2     @swonderlin Can not wait for #iPad 2 also. The...   \n",
       "3     @sxsw I hope this year's festival isn't as cra...   \n",
       "4     @sxtxstate great stuff on Fri #SXSW: Marissa M...   \n",
       "...                                                 ...   \n",
       "9088                      Ipad everywhere. #SXSW {link}   \n",
       "9089  Wave, buzz... RT @mention We interrupt your re...   \n",
       "9090  Google's Zeiger, a physician never reported po...   \n",
       "9091  Some Verizon iPhone customers complained their...   \n",
       "9092  Ï¡Ïàü_ÊÎÒ£Áââ_£â_ÛâRT @...   \n",
       "\n",
       "     emotion_in_tweet_is_directed_at  \\\n",
       "0                             iPhone   \n",
       "1                 iPad or iPhone App   \n",
       "2                               iPad   \n",
       "3                 iPad or iPhone App   \n",
       "4                             Google   \n",
       "...                              ...   \n",
       "9088                            iPad   \n",
       "9089                             NaN   \n",
       "9090                             NaN   \n",
       "9091                             NaN   \n",
       "9092                             NaN   \n",
       "\n",
       "     is_there_an_emotion_directed_at_a_brand_or_product  \n",
       "0                                      Negative emotion  \n",
       "1                                      Positive emotion  \n",
       "2                                      Positive emotion  \n",
       "3                                      Negative emotion  \n",
       "4                                      Positive emotion  \n",
       "...                                                 ...  \n",
       "9088                                   Positive emotion  \n",
       "9089                 No emotion toward brand or product  \n",
       "9090                 No emotion toward brand or product  \n",
       "9091                 No emotion toward brand or product  \n",
       "9092                 No emotion toward brand or product  \n",
       "\n",
       "[9093 rows x 3 columns]"
      ]
     },
     "execution_count": 3,
     "metadata": {},
     "output_type": "execute_result"
    }
   ],
   "source": [
    "tweet_df"
   ]
  },
  {
   "cell_type": "code",
   "execution_count": 4,
   "metadata": {},
   "outputs": [
    {
     "name": "stdout",
     "output_type": "stream",
     "text": [
      "<class 'pandas.core.frame.DataFrame'>\n",
      "RangeIndex: 9093 entries, 0 to 9092\n",
      "Data columns (total 3 columns):\n",
      " #   Column                                              Non-Null Count  Dtype \n",
      "---  ------                                              --------------  ----- \n",
      " 0   tweet_text                                          9092 non-null   object\n",
      " 1   emotion_in_tweet_is_directed_at                     3291 non-null   object\n",
      " 2   is_there_an_emotion_directed_at_a_brand_or_product  9093 non-null   object\n",
      "dtypes: object(3)\n",
      "memory usage: 213.2+ KB\n"
     ]
    }
   ],
   "source": [
    "tweet_df.info()"
   ]
  },
  {
   "cell_type": "code",
   "execution_count": 5,
   "metadata": {},
   "outputs": [
    {
     "data": {
      "text/plain": [
       "tweet_text                                               1\n",
       "emotion_in_tweet_is_directed_at                       5802\n",
       "is_there_an_emotion_directed_at_a_brand_or_product       0\n",
       "dtype: int64"
      ]
     },
     "execution_count": 5,
     "metadata": {},
     "output_type": "execute_result"
    }
   ],
   "source": [
    "tweet_df.isna().sum()"
   ]
  },
  {
   "cell_type": "code",
   "execution_count": 6,
   "metadata": {},
   "outputs": [
    {
     "data": {
      "text/plain": [
       "No emotion toward brand or product    5389\n",
       "Positive emotion                      2978\n",
       "Negative emotion                       570\n",
       "I can't tell                           156\n",
       "Name: is_there_an_emotion_directed_at_a_brand_or_product, dtype: int64"
      ]
     },
     "execution_count": 6,
     "metadata": {},
     "output_type": "execute_result"
    }
   ],
   "source": [
    "tweet_df['is_there_an_emotion_directed_at_a_brand_or_product'].value_counts()"
   ]
  },
  {
   "cell_type": "code",
   "execution_count": 7,
   "metadata": {},
   "outputs": [
    {
     "data": {
      "text/plain": [
       "iPad                               946\n",
       "Apple                              661\n",
       "iPad or iPhone App                 470\n",
       "Google                             430\n",
       "iPhone                             297\n",
       "Other Google product or service    293\n",
       "Android App                         81\n",
       "Android                             78\n",
       "Other Apple product or service      35\n",
       "Name: emotion_in_tweet_is_directed_at, dtype: int64"
      ]
     },
     "execution_count": 7,
     "metadata": {},
     "output_type": "execute_result"
    }
   ],
   "source": [
    "tweet_df['emotion_in_tweet_is_directed_at'].value_counts()"
   ]
  },
  {
   "cell_type": "markdown",
   "metadata": {},
   "source": [
    "### Clean Up & Tokenize"
   ]
  },
  {
   "cell_type": "code",
   "execution_count": 8,
   "metadata": {},
   "outputs": [],
   "source": [
    "# Instantiating tokenizer\n",
    "tokenizer = RegexpTokenizer(r\"(?u)\\b\\w\\w+\\b\")\n",
    "\n",
    "# Create a list of stopwords in English\n",
    "sw = stopwords.words('english')"
   ]
  },
  {
   "cell_type": "code",
   "execution_count": 9,
   "metadata": {},
   "outputs": [
    {
     "data": {
      "text/html": [
       "<div>\n",
       "<style scoped>\n",
       "    .dataframe tbody tr th:only-of-type {\n",
       "        vertical-align: middle;\n",
       "    }\n",
       "\n",
       "    .dataframe tbody tr th {\n",
       "        vertical-align: top;\n",
       "    }\n",
       "\n",
       "    .dataframe thead th {\n",
       "        text-align: right;\n",
       "    }\n",
       "</style>\n",
       "<table border=\"1\" class=\"dataframe\">\n",
       "  <thead>\n",
       "    <tr style=\"text-align: right;\">\n",
       "      <th></th>\n",
       "      <th>tweet_text</th>\n",
       "      <th>directed_at</th>\n",
       "      <th>emotion</th>\n",
       "      <th>emotion_num</th>\n",
       "      <th>brand</th>\n",
       "      <th>tweet_text_tokenized</th>\n",
       "      <th>joined_tokens</th>\n",
       "    </tr>\n",
       "  </thead>\n",
       "  <tbody>\n",
       "    <tr>\n",
       "      <th>0</th>\n",
       "      <td>.@wesley83 i have a 3g iphone. after 3 hrs twe...</td>\n",
       "      <td>iPhone</td>\n",
       "      <td>Negative emotion</td>\n",
       "      <td>-1</td>\n",
       "      <td>Apple</td>\n",
       "      <td>[wesley83, 3g, iphone, hr, tweeting, rise_aust...</td>\n",
       "      <td>wesley83 3g iphone hr tweeting rise_austin dea...</td>\n",
       "    </tr>\n",
       "    <tr>\n",
       "      <th>1</th>\n",
       "      <td>@jessedee know about @fludapp ? awesome ipad/i...</td>\n",
       "      <td>iPad or iPhone App</td>\n",
       "      <td>Positive emotion</td>\n",
       "      <td>1</td>\n",
       "      <td>Apple</td>\n",
       "      <td>[jessedee, know, fludapp, awesome, ipad, iphon...</td>\n",
       "      <td>jessedee know fludapp awesome ipad iphone app ...</td>\n",
       "    </tr>\n",
       "    <tr>\n",
       "      <th>2</th>\n",
       "      <td>@swonderlin can not wait for #ipad 2 also. the...</td>\n",
       "      <td>iPad</td>\n",
       "      <td>Positive emotion</td>\n",
       "      <td>1</td>\n",
       "      <td>Apple</td>\n",
       "      <td>[swonderlin, wait, ipad, also, sale, sxsw]</td>\n",
       "      <td>swonderlin wait ipad also sale sxsw</td>\n",
       "    </tr>\n",
       "    <tr>\n",
       "      <th>3</th>\n",
       "      <td>@sxsw i hope this year's festival isn't as cra...</td>\n",
       "      <td>iPad or iPhone App</td>\n",
       "      <td>Negative emotion</td>\n",
       "      <td>-1</td>\n",
       "      <td>Apple</td>\n",
       "      <td>[sxsw, hope, year, festival, crashy, year, iph...</td>\n",
       "      <td>sxsw hope year festival crashy year iphone app...</td>\n",
       "    </tr>\n",
       "    <tr>\n",
       "      <th>4</th>\n",
       "      <td>@sxtxstate great stuff on fri #sxsw: marissa m...</td>\n",
       "      <td>Google</td>\n",
       "      <td>Positive emotion</td>\n",
       "      <td>1</td>\n",
       "      <td>Google</td>\n",
       "      <td>[sxtxstate, great, stuff, fri, sxsw, marissa, ...</td>\n",
       "      <td>sxtxstate great stuff fri sxsw marissa mayer g...</td>\n",
       "    </tr>\n",
       "    <tr>\n",
       "      <th>...</th>\n",
       "      <td>...</td>\n",
       "      <td>...</td>\n",
       "      <td>...</td>\n",
       "      <td>...</td>\n",
       "      <td>...</td>\n",
       "      <td>...</td>\n",
       "      <td>...</td>\n",
       "    </tr>\n",
       "    <tr>\n",
       "      <th>9084</th>\n",
       "      <td>@mention yup, but i don't have a third app yet...</td>\n",
       "      <td>NaN</td>\n",
       "      <td>No emotion toward brand or product</td>\n",
       "      <td>0</td>\n",
       "      <td>Google</td>\n",
       "      <td>[mention, yup, third, app, yet, android, sugge...</td>\n",
       "      <td>mention yup third app yet android suggestion s...</td>\n",
       "    </tr>\n",
       "    <tr>\n",
       "      <th>9085</th>\n",
       "      <td>ipad everywhere. #sxsw {link}</td>\n",
       "      <td>iPad</td>\n",
       "      <td>Positive emotion</td>\n",
       "      <td>1</td>\n",
       "      <td>Apple</td>\n",
       "      <td>[ipad, everywhere, sxsw, link]</td>\n",
       "      <td>ipad everywhere sxsw link</td>\n",
       "    </tr>\n",
       "    <tr>\n",
       "      <th>9086</th>\n",
       "      <td>wave, buzz... rt @mention we interrupt your re...</td>\n",
       "      <td>NaN</td>\n",
       "      <td>No emotion toward brand or product</td>\n",
       "      <td>0</td>\n",
       "      <td>Google</td>\n",
       "      <td>[wave, buzz, rt, mention, interrupt, regularly...</td>\n",
       "      <td>wave buzz rt mention interrupt regularly sched...</td>\n",
       "    </tr>\n",
       "    <tr>\n",
       "      <th>9087</th>\n",
       "      <td>google's zeiger, a physician never reported po...</td>\n",
       "      <td>NaN</td>\n",
       "      <td>No emotion toward brand or product</td>\n",
       "      <td>0</td>\n",
       "      <td>Google</td>\n",
       "      <td>[google, zeiger, physician, never, reported, p...</td>\n",
       "      <td>google zeiger physician never reported potenti...</td>\n",
       "    </tr>\n",
       "    <tr>\n",
       "      <th>9088</th>\n",
       "      <td>some verizon iphone customers complained their...</td>\n",
       "      <td>NaN</td>\n",
       "      <td>No emotion toward brand or product</td>\n",
       "      <td>0</td>\n",
       "      <td>Apple</td>\n",
       "      <td>[verizon, iphone, customer, complained, time, ...</td>\n",
       "      <td>verizon iphone customer complained time fell b...</td>\n",
       "    </tr>\n",
       "  </tbody>\n",
       "</table>\n",
       "<p>9089 rows × 7 columns</p>\n",
       "</div>"
      ],
      "text/plain": [
       "                                             tweet_text         directed_at  \\\n",
       "0     .@wesley83 i have a 3g iphone. after 3 hrs twe...              iPhone   \n",
       "1     @jessedee know about @fludapp ? awesome ipad/i...  iPad or iPhone App   \n",
       "2     @swonderlin can not wait for #ipad 2 also. the...                iPad   \n",
       "3     @sxsw i hope this year's festival isn't as cra...  iPad or iPhone App   \n",
       "4     @sxtxstate great stuff on fri #sxsw: marissa m...              Google   \n",
       "...                                                 ...                 ...   \n",
       "9084  @mention yup, but i don't have a third app yet...                 NaN   \n",
       "9085                      ipad everywhere. #sxsw {link}                iPad   \n",
       "9086  wave, buzz... rt @mention we interrupt your re...                 NaN   \n",
       "9087  google's zeiger, a physician never reported po...                 NaN   \n",
       "9088  some verizon iphone customers complained their...                 NaN   \n",
       "\n",
       "                                 emotion  emotion_num   brand  \\\n",
       "0                       Negative emotion           -1   Apple   \n",
       "1                       Positive emotion            1   Apple   \n",
       "2                       Positive emotion            1   Apple   \n",
       "3                       Negative emotion           -1   Apple   \n",
       "4                       Positive emotion            1  Google   \n",
       "...                                  ...          ...     ...   \n",
       "9084  No emotion toward brand or product            0  Google   \n",
       "9085                    Positive emotion            1   Apple   \n",
       "9086  No emotion toward brand or product            0  Google   \n",
       "9087  No emotion toward brand or product            0  Google   \n",
       "9088  No emotion toward brand or product            0   Apple   \n",
       "\n",
       "                                   tweet_text_tokenized  \\\n",
       "0     [wesley83, 3g, iphone, hr, tweeting, rise_aust...   \n",
       "1     [jessedee, know, fludapp, awesome, ipad, iphon...   \n",
       "2            [swonderlin, wait, ipad, also, sale, sxsw]   \n",
       "3     [sxsw, hope, year, festival, crashy, year, iph...   \n",
       "4     [sxtxstate, great, stuff, fri, sxsw, marissa, ...   \n",
       "...                                                 ...   \n",
       "9084  [mention, yup, third, app, yet, android, sugge...   \n",
       "9085                     [ipad, everywhere, sxsw, link]   \n",
       "9086  [wave, buzz, rt, mention, interrupt, regularly...   \n",
       "9087  [google, zeiger, physician, never, reported, p...   \n",
       "9088  [verizon, iphone, customer, complained, time, ...   \n",
       "\n",
       "                                          joined_tokens  \n",
       "0     wesley83 3g iphone hr tweeting rise_austin dea...  \n",
       "1     jessedee know fludapp awesome ipad iphone app ...  \n",
       "2                   swonderlin wait ipad also sale sxsw  \n",
       "3     sxsw hope year festival crashy year iphone app...  \n",
       "4     sxtxstate great stuff fri sxsw marissa mayer g...  \n",
       "...                                                 ...  \n",
       "9084  mention yup third app yet android suggestion s...  \n",
       "9085                          ipad everywhere sxsw link  \n",
       "9086  wave buzz rt mention interrupt regularly sched...  \n",
       "9087  google zeiger physician never reported potenti...  \n",
       "9088  verizon iphone customer complained time fell b...  \n",
       "\n",
       "[9089 rows x 7 columns]"
      ]
     },
     "execution_count": 9,
     "metadata": {},
     "output_type": "execute_result"
    }
   ],
   "source": [
    "# instantiating Via_GoGo()\n",
    "vg = VIA_GoGo()\n",
    "\n",
    "# Creating a cleaned and shaped dataframe\n",
    "clean_df = vg.clean_tokenizer(tweet_df, tokenizer, sw)\n",
    "clean_df"
   ]
  },
  {
   "cell_type": "code",
   "execution_count": 10,
   "metadata": {},
   "outputs": [],
   "source": [
    "binary_df = clean_df[clean_df.emotion_num != 0]"
   ]
  },
  {
   "cell_type": "code",
   "execution_count": 11,
   "metadata": {},
   "outputs": [
    {
     "data": {
      "image/png": "[encoded data removed]",
      "text/plain": [
       "<Figure size 720x432 with 1 Axes>"
      ]
     },
     "metadata": {},
     "output_type": "display_data"
    }
   ],
   "source": [
    "# visualize the counts of each emotion type\n",
    "sns.set_theme(style=\"darkgrid\")\n",
    "fig, ax = plt.subplots(figsize=(10,6))\n",
    "\n",
    "ax = sns.countplot(\n",
    "    data=binary_df, \n",
    "    x=\"directed_at\",\n",
    "    order=binary_df.brand.value_counts().index)\n",
    "\n",
    "ax.set_title('Type of Emotions in Tweets',fontsize='x-large')\n",
    "ax.set_xlabel('Emotion',fontsize='large')\n",
    "ax.set_ylabel('Count',fontsize='large')\n",
    "plt.xticks(range(2), ['Positive','Negative'],fontweight='light', fontsize='large')\n",
    "\n",
    "plt.show();"
   ]
  },
  {
   "cell_type": "markdown",
   "metadata": {},
   "source": [
    "### Modeling Sections\n",
    "1. Baseline\n",
    "2. Tuned\n",
    "3. Word2Vec\n",
    "4. Neural Network"
   ]
  },
  {
   "cell_type": "code",
   "execution_count": 12,
   "metadata": {},
   "outputs": [],
   "source": [
    "X_train, X_test, y_train, y_test = train_test_split(binary_df.joined_tokens, \n",
    "                                                    binary_df.emotion, \n",
    "                                                    test_size= 0.25,\n",
    "                                                    random_state= 5)"
   ]
  },
  {
   "cell_type": "markdown",
   "metadata": {},
   "source": [
    "#### Baseline"
   ]
  },
  {
   "cell_type": "code",
   "execution_count": 13,
   "metadata": {},
   "outputs": [],
   "source": [
    "# Using Linear Support Vector Machine\n",
    "sgd = Pipeline([('vect', CountVectorizer()),\n",
    "               ('tfidf', TfidfTransformer()),\n",
    "               ('clf', SGDClassifier()),\n",
    "              ])\n",
    "\n",
    "# Using Naive Bayes\n",
    "naive = Pipeline([('vect', CountVectorizer()),\n",
    "               ('tfidf', TfidfTransformer()),\n",
    "               ('clf', MultinomialNB()),\n",
    "              ])\n",
    "\n",
    "# Using Logistic Regression\n",
    "lin_reg = Pipeline([('vect', CountVectorizer()),\n",
    "               ('tfidf', TfidfTransformer()),\n",
    "               ('clf', LogisticRegression()),\n",
    "              ])\n"
   ]
  },
  {
   "cell_type": "code",
   "execution_count": 14,
   "metadata": {},
   "outputs": [
    {
     "name": "stdout",
     "output_type": "stream",
     "text": [
      "accuracy 0.8793686583990981\n"
     ]
    }
   ],
   "source": [
    "sgd.fit(X_train, y_train)\n",
    "\n",
    "y_pred = sgd.predict(X_test)\n",
    "\n",
    "print('accuracy %s' % accuracy_score(y_pred, y_test))"
   ]
  },
  {
   "cell_type": "code",
   "execution_count": 15,
   "metadata": {},
   "outputs": [
    {
     "name": "stdout",
     "output_type": "stream",
     "text": [
      "accuracy 0.8331454340473506\n"
     ]
    }
   ],
   "source": [
    "naive.fit(X_train, y_train)\n",
    "\n",
    "y_pred = naive.predict(X_test)\n",
    "\n",
    "print('accuracy %s' % accuracy_score(y_pred, y_test))"
   ]
  },
  {
   "cell_type": "code",
   "execution_count": 16,
   "metadata": {},
   "outputs": [
    {
     "name": "stdout",
     "output_type": "stream",
     "text": [
      "accuracy 0.8365276211950394\n"
     ]
    }
   ],
   "source": [
    "lin_reg.fit(X_train, y_train)\n",
    "\n",
    "y_pred = lin_reg.predict(X_test)\n",
    "\n",
    "print('accuracy %s' % accuracy_score(y_pred, y_test))"
   ]
  },
  {
   "cell_type": "markdown",
   "metadata": {},
   "source": [
    "#### Tuned"
   ]
  },
  {
   "cell_type": "code",
   "execution_count": 17,
   "metadata": {},
   "outputs": [
    {
     "name": "stdout",
     "output_type": "stream",
     "text": [
      "accuracy 0.8906426155580609\n"
     ]
    }
   ],
   "source": [
    "sgd_tuned = Pipeline([('vect', CountVectorizer(ngram_range=(1,2))),\n",
    "               ('tfidf', TfidfTransformer(smooth_idf=False)),\n",
    "               ('clf', SGDClassifier())\n",
    "              ])\n",
    "sgd_tuned.fit(X_train, y_train)\n",
    "\n",
    "y_pred = sgd_tuned.predict(X_test)\n",
    "\n",
    "print('accuracy %s' % accuracy_score(y_pred, y_test))"
   ]
  },
  {
   "cell_type": "code",
   "execution_count": 18,
   "metadata": {},
   "outputs": [
    {
     "name": "stdout",
     "output_type": "stream",
     "text": [
      "accuracy 0.8421645997745209\n"
     ]
    }
   ],
   "source": [
    "naive_tuned = Pipeline([('vect', CountVectorizer(ngram_range=(2,2))),\n",
    "               ('tfidf', TfidfTransformer()),\n",
    "               ('clf', MultinomialNB()),\n",
    "              ])\n",
    "naive_tuned.fit(X_train, y_train)\n",
    "\n",
    "y_pred = naive_tuned.predict(X_test)\n",
    "\n",
    "print('accuracy %s' % accuracy_score(y_pred, y_test))"
   ]
  },
  {
   "cell_type": "code",
   "execution_count": 19,
   "metadata": {},
   "outputs": [
    {
     "name": "stdout",
     "output_type": "stream",
     "text": [
      "accuracy 0.830890642615558\n"
     ]
    }
   ],
   "source": [
    "lin_reg_tuned = Pipeline([('vect', CountVectorizer(ngram_range=(1,2))),\n",
    "               ('tfidf', TfidfTransformer()),\n",
    "               ('clf', LogisticRegression(n_jobs=5)),\n",
    "              ])\n",
    "lin_reg_tuned.fit(X_train, y_train)\n",
    "\n",
    "y_pred = lin_reg_tuned.predict(X_test)\n",
    "\n",
    "print('accuracy %s' % accuracy_score(y_pred, y_test))"
   ]
  },
  {
   "cell_type": "markdown",
   "metadata": {},
   "source": [
    "#### Word2Vec"
   ]
  },
  {
   "cell_type": "code",
   "execution_count": 20,
   "metadata": {},
   "outputs": [
    {
     "data": {
      "text/plain": [
       "(565258, 873220)"
      ]
     },
     "execution_count": 20,
     "metadata": {},
     "output_type": "execute_result"
    }
   ],
   "source": [
    "model_w2v = gensim.models.Word2Vec(\n",
    "            sentences=binary_df.tweet_text_tokenized,\n",
    "            size=200, # desired no. of features/independent variables \n",
    "            window=5, # context window size\n",
    "            min_count=2,\n",
    "            sg = 1, # 1 for skip-gram model\n",
    "            hs = 0,\n",
    "            negative = 10, # for negative sampling\n",
    "            workers= 2, # no.of cores\n",
    "            seed = 34)\n",
    "\n",
    "model_w2v.train(binary_df.tweet_text_tokenized, total_examples=len(binary_df.tweet_text_tokenized), epochs=20)"
   ]
  },
  {
   "cell_type": "code",
   "execution_count": 21,
   "metadata": {},
   "outputs": [
    {
     "data": {
      "text/plain": [
       "array([ 0.47907603, -0.2917351 ,  0.18808924, -0.06365912, -0.2620052 ,\n",
       "       -0.29228607, -0.00208844,  0.09680609, -0.11784838,  0.20190102,\n",
       "       -0.04471625,  0.01307003, -0.21134059, -0.18006667, -0.00837685,\n",
       "        0.23938179,  0.19566028,  0.30315936,  0.19629702, -0.30307454,\n",
       "        0.15908045, -0.3021751 ,  0.03480769,  0.03895468, -0.07223701,\n",
       "        0.13920833,  0.19603512, -0.26842928, -0.02820395, -0.14138952,\n",
       "        0.07413613,  0.00533558,  0.11737052,  0.59947115,  0.34949178,\n",
       "        0.25403076, -0.05536505,  0.0102491 , -0.07370263, -0.15261036,\n",
       "       -0.0597993 , -0.29855013, -0.24224728, -0.09839206,  0.43232343,\n",
       "       -0.14852184,  0.23480335,  0.02569752,  0.500369  ,  0.08513261,\n",
       "       -0.16600767,  0.06476503, -0.0726776 ,  0.05095736, -0.2551299 ,\n",
       "       -0.07191622, -0.41691062, -0.23431277,  0.02743548, -0.41391855,\n",
       "        0.1061457 , -0.18169454,  0.1574449 ,  0.14122026,  0.25976196,\n",
       "        0.19036019,  0.08692258, -0.21699765, -0.04432684, -0.16301835,\n",
       "        0.11234521, -0.55869454, -0.04812551, -0.11168146,  0.25270256,\n",
       "        0.1327982 , -0.39077887, -0.17290805, -0.0070543 , -0.362766  ,\n",
       "       -0.48300582, -0.19543816,  0.2298775 , -0.08175179, -0.47635323,\n",
       "       -0.51424885,  0.07802881, -0.23642813,  0.28267086,  0.24208036,\n",
       "        0.18613444, -0.5291267 , -0.16757499,  0.44000816, -0.16013314,\n",
       "       -0.18838307,  0.13057171, -0.15834472,  0.32540354, -0.17919943,\n",
       "       -0.16723654, -0.16708252, -0.21663712,  0.05828873,  0.43525538,\n",
       "        0.28264135,  0.30387133,  0.07413495,  0.5348899 , -0.12196288,\n",
       "       -0.46391138, -0.3980675 , -0.30546987,  0.17091641,  0.26996747,\n",
       "        0.20102146, -0.0246446 , -0.2529738 ,  0.17642982, -0.60348076,\n",
       "        0.00482911, -0.06846385, -0.07901764,  0.34358266,  0.02398054,\n",
       "        0.2762842 ,  0.0914965 , -0.47229084, -0.0355379 , -0.28299806,\n",
       "       -0.29895392, -0.18386929, -0.0657803 , -0.22177108, -0.10724705,\n",
       "        0.30593202, -0.03550846,  0.14396188,  0.0246599 , -0.03220553,\n",
       "       -0.0801996 ,  0.33102927,  0.04853918, -0.12872729, -0.18974261,\n",
       "        0.17947957,  0.02384494, -0.29965794, -0.13914654, -0.03176223,\n",
       "        0.02600094, -0.04112259, -0.01556672,  0.18642442,  0.29268685,\n",
       "       -0.12029082,  0.12717411,  0.24296553, -0.00647901, -0.28937715,\n",
       "        0.1111429 , -0.21129443, -0.1231643 ,  0.31866112,  0.14520633,\n",
       "       -0.26401046, -0.32608786, -0.5736929 ,  0.40362284, -0.13593909,\n",
       "        0.31260252, -0.22239676,  0.07797584, -0.12457645, -0.07058651,\n",
       "        0.1947206 ,  0.21316338,  0.01954448,  0.16241392, -0.01158776,\n",
       "        0.05035735,  0.05338253, -0.04180462, -0.27740258, -0.13889039,\n",
       "       -0.19834875, -0.04207651,  0.31047776, -0.4616395 ,  0.08866139,\n",
       "       -0.1536137 ,  0.03129185,  0.00765708,  0.01595412, -0.21441525,\n",
       "       -0.32023633,  0.30915758,  0.20095976, -0.4499427 , -0.1401776 ],\n",
       "      dtype=float32)"
      ]
     },
     "execution_count": 21,
     "metadata": {},
     "output_type": "execute_result"
    }
   ],
   "source": [
    "model_w2v.wv['iphone']"
   ]
  },
  {
   "cell_type": "code",
   "execution_count": 22,
   "metadata": {},
   "outputs": [
    {
     "data": {
      "text/plain": [
       "(200,)"
      ]
     },
     "execution_count": 22,
     "metadata": {},
     "output_type": "execute_result"
    }
   ],
   "source": [
    "model_w2v.wv['iphone'].shape"
   ]
  },
  {
   "cell_type": "code",
   "execution_count": 23,
   "metadata": {},
   "outputs": [
    {
     "data": {
      "text/plain": [
       "[('discovr', 0.6019564867019653),\n",
       " ('self', 0.5992138385772705),\n",
       " ('bb', 0.5969515442848206),\n",
       " ('prep', 0.584649920463562),\n",
       " ('speedup', 0.5815678834915161),\n",
       " ('3x', 0.5812007188796997),\n",
       " ('sync', 0.5810478925704956),\n",
       " ('breakdown', 0.5799576044082642),\n",
       " ('climbing', 0.5684288144111633),\n",
       " ('yo', 0.5678342580795288)]"
      ]
     },
     "execution_count": 23,
     "metadata": {},
     "output_type": "execute_result"
    }
   ],
   "source": [
    "model_w2v.wv.most_similar(positive=\"iphone\")"
   ]
  },
  {
   "cell_type": "code",
   "execution_count": 24,
   "metadata": {},
   "outputs": [],
   "source": [
    "def word_vector(tokens, size):\n",
    "    vec = np.zeros(size).reshape((1, size))\n",
    "    count = 0.\n",
    "    for word in tokens:\n",
    "        try:\n",
    "            vec += model_w2v.wv[word].reshape((1, size))\n",
    "            count += 1.\n",
    "        except KeyError: # handling the case where the token is not in vocabulary\n",
    "                         \n",
    "            continue\n",
    "    if count != 0:\n",
    "        vec /= count\n",
    "    return vec"
   ]
  },
  {
   "cell_type": "code",
   "execution_count": 25,
   "metadata": {},
   "outputs": [],
   "source": [
    "binary_df.reset_index(inplace=True, drop=True)"
   ]
  },
  {
   "cell_type": "code",
   "execution_count": 26,
   "metadata": {},
   "outputs": [
    {
     "data": {
      "text/plain": [
       "(3548, 200)"
      ]
     },
     "execution_count": 26,
     "metadata": {},
     "output_type": "execute_result"
    }
   ],
   "source": [
    "wordvec_arrays = np.zeros((len(binary_df.tweet_text_tokenized), 200))\n",
    "\n",
    "for i in range(len(binary_df.emotion_num)):\n",
    "    wordvec_arrays[i,:] = word_vector(binary_df.tweet_text_tokenized[i], 200)\n",
    "    \n",
    "wordvec_df = pd.DataFrame(wordvec_arrays)\n",
    "wordvec_df.shape   "
   ]
  },
  {
   "cell_type": "code",
   "execution_count": 27,
   "metadata": {},
   "outputs": [
    {
     "data": {
      "text/html": [
       "<div>\n",
       "<style scoped>\n",
       "    .dataframe tbody tr th:only-of-type {\n",
       "        vertical-align: middle;\n",
       "    }\n",
       "\n",
       "    .dataframe tbody tr th {\n",
       "        vertical-align: top;\n",
       "    }\n",
       "\n",
       "    .dataframe thead th {\n",
       "        text-align: right;\n",
       "    }\n",
       "</style>\n",
       "<table border=\"1\" class=\"dataframe\">\n",
       "  <thead>\n",
       "    <tr style=\"text-align: right;\">\n",
       "      <th></th>\n",
       "      <th>0</th>\n",
       "      <th>1</th>\n",
       "      <th>2</th>\n",
       "      <th>3</th>\n",
       "      <th>4</th>\n",
       "      <th>5</th>\n",
       "      <th>6</th>\n",
       "      <th>7</th>\n",
       "      <th>8</th>\n",
       "      <th>9</th>\n",
       "      <th>...</th>\n",
       "      <th>190</th>\n",
       "      <th>191</th>\n",
       "      <th>192</th>\n",
       "      <th>193</th>\n",
       "      <th>194</th>\n",
       "      <th>195</th>\n",
       "      <th>196</th>\n",
       "      <th>197</th>\n",
       "      <th>198</th>\n",
       "      <th>199</th>\n",
       "    </tr>\n",
       "  </thead>\n",
       "  <tbody>\n",
       "    <tr>\n",
       "      <th>0</th>\n",
       "      <td>-0.018899</td>\n",
       "      <td>-0.075515</td>\n",
       "      <td>0.006268</td>\n",
       "      <td>-0.096327</td>\n",
       "      <td>-0.027239</td>\n",
       "      <td>-0.288885</td>\n",
       "      <td>0.146812</td>\n",
       "      <td>-0.020077</td>\n",
       "      <td>-0.038652</td>\n",
       "      <td>-0.037677</td>\n",
       "      <td>...</td>\n",
       "      <td>-0.173547</td>\n",
       "      <td>-0.186693</td>\n",
       "      <td>-0.076538</td>\n",
       "      <td>-0.114696</td>\n",
       "      <td>-0.144044</td>\n",
       "      <td>-0.251281</td>\n",
       "      <td>0.001007</td>\n",
       "      <td>0.318120</td>\n",
       "      <td>-0.007395</td>\n",
       "      <td>0.073828</td>\n",
       "    </tr>\n",
       "    <tr>\n",
       "      <th>1</th>\n",
       "      <td>0.150000</td>\n",
       "      <td>-0.119189</td>\n",
       "      <td>0.201855</td>\n",
       "      <td>0.028423</td>\n",
       "      <td>0.054564</td>\n",
       "      <td>-0.269780</td>\n",
       "      <td>0.102028</td>\n",
       "      <td>0.001961</td>\n",
       "      <td>-0.020824</td>\n",
       "      <td>0.019614</td>\n",
       "      <td>...</td>\n",
       "      <td>-0.098071</td>\n",
       "      <td>-0.203792</td>\n",
       "      <td>-0.088003</td>\n",
       "      <td>-0.188396</td>\n",
       "      <td>0.006115</td>\n",
       "      <td>-0.230360</td>\n",
       "      <td>-0.068336</td>\n",
       "      <td>0.230036</td>\n",
       "      <td>0.010882</td>\n",
       "      <td>0.123471</td>\n",
       "    </tr>\n",
       "    <tr>\n",
       "      <th>2</th>\n",
       "      <td>0.081652</td>\n",
       "      <td>-0.017048</td>\n",
       "      <td>0.053391</td>\n",
       "      <td>-0.078042</td>\n",
       "      <td>0.139240</td>\n",
       "      <td>-0.225921</td>\n",
       "      <td>0.101551</td>\n",
       "      <td>-0.005059</td>\n",
       "      <td>-0.102221</td>\n",
       "      <td>-0.024589</td>\n",
       "      <td>...</td>\n",
       "      <td>-0.118054</td>\n",
       "      <td>-0.230183</td>\n",
       "      <td>-0.018031</td>\n",
       "      <td>-0.099206</td>\n",
       "      <td>-0.108518</td>\n",
       "      <td>-0.128022</td>\n",
       "      <td>-0.032399</td>\n",
       "      <td>0.272753</td>\n",
       "      <td>-0.015391</td>\n",
       "      <td>0.069001</td>\n",
       "    </tr>\n",
       "    <tr>\n",
       "      <th>3</th>\n",
       "      <td>0.061515</td>\n",
       "      <td>-0.083954</td>\n",
       "      <td>0.018384</td>\n",
       "      <td>-0.003495</td>\n",
       "      <td>0.239020</td>\n",
       "      <td>-0.146076</td>\n",
       "      <td>0.037141</td>\n",
       "      <td>-0.123219</td>\n",
       "      <td>0.006527</td>\n",
       "      <td>-0.045914</td>\n",
       "      <td>...</td>\n",
       "      <td>-0.214871</td>\n",
       "      <td>-0.141400</td>\n",
       "      <td>-0.195226</td>\n",
       "      <td>-0.038063</td>\n",
       "      <td>-0.064331</td>\n",
       "      <td>-0.307081</td>\n",
       "      <td>0.116717</td>\n",
       "      <td>0.343477</td>\n",
       "      <td>-0.020466</td>\n",
       "      <td>-0.083349</td>\n",
       "    </tr>\n",
       "    <tr>\n",
       "      <th>4</th>\n",
       "      <td>-0.195369</td>\n",
       "      <td>0.075995</td>\n",
       "      <td>0.017922</td>\n",
       "      <td>0.008346</td>\n",
       "      <td>-0.020318</td>\n",
       "      <td>-0.260585</td>\n",
       "      <td>-0.102827</td>\n",
       "      <td>0.150010</td>\n",
       "      <td>0.191804</td>\n",
       "      <td>-0.052888</td>\n",
       "      <td>...</td>\n",
       "      <td>-0.172623</td>\n",
       "      <td>-0.283337</td>\n",
       "      <td>0.052109</td>\n",
       "      <td>0.050916</td>\n",
       "      <td>-0.234175</td>\n",
       "      <td>-0.114666</td>\n",
       "      <td>0.066861</td>\n",
       "      <td>0.171002</td>\n",
       "      <td>-0.079722</td>\n",
       "      <td>0.031573</td>\n",
       "    </tr>\n",
       "    <tr>\n",
       "      <th>...</th>\n",
       "      <td>...</td>\n",
       "      <td>...</td>\n",
       "      <td>...</td>\n",
       "      <td>...</td>\n",
       "      <td>...</td>\n",
       "      <td>...</td>\n",
       "      <td>...</td>\n",
       "      <td>...</td>\n",
       "      <td>...</td>\n",
       "      <td>...</td>\n",
       "      <td>...</td>\n",
       "      <td>...</td>\n",
       "      <td>...</td>\n",
       "      <td>...</td>\n",
       "      <td>...</td>\n",
       "      <td>...</td>\n",
       "      <td>...</td>\n",
       "      <td>...</td>\n",
       "      <td>...</td>\n",
       "      <td>...</td>\n",
       "      <td>...</td>\n",
       "    </tr>\n",
       "    <tr>\n",
       "      <th>3543</th>\n",
       "      <td>-0.034193</td>\n",
       "      <td>-0.077896</td>\n",
       "      <td>0.026879</td>\n",
       "      <td>0.107693</td>\n",
       "      <td>0.068716</td>\n",
       "      <td>-0.178947</td>\n",
       "      <td>-0.008566</td>\n",
       "      <td>0.055545</td>\n",
       "      <td>0.119146</td>\n",
       "      <td>-0.025654</td>\n",
       "      <td>...</td>\n",
       "      <td>-0.146813</td>\n",
       "      <td>-0.149645</td>\n",
       "      <td>-0.112073</td>\n",
       "      <td>0.014442</td>\n",
       "      <td>-0.077988</td>\n",
       "      <td>-0.179908</td>\n",
       "      <td>0.115997</td>\n",
       "      <td>0.130335</td>\n",
       "      <td>-0.068146</td>\n",
       "      <td>-0.021716</td>\n",
       "    </tr>\n",
       "    <tr>\n",
       "      <th>3544</th>\n",
       "      <td>0.082045</td>\n",
       "      <td>-0.077693</td>\n",
       "      <td>0.094895</td>\n",
       "      <td>-0.006921</td>\n",
       "      <td>0.051714</td>\n",
       "      <td>-0.252050</td>\n",
       "      <td>0.088599</td>\n",
       "      <td>-0.070022</td>\n",
       "      <td>0.176025</td>\n",
       "      <td>0.069701</td>\n",
       "      <td>...</td>\n",
       "      <td>-0.126570</td>\n",
       "      <td>-0.030264</td>\n",
       "      <td>-0.090483</td>\n",
       "      <td>-0.050377</td>\n",
       "      <td>-0.285575</td>\n",
       "      <td>-0.154329</td>\n",
       "      <td>0.123353</td>\n",
       "      <td>0.213273</td>\n",
       "      <td>0.044223</td>\n",
       "      <td>0.033305</td>\n",
       "    </tr>\n",
       "    <tr>\n",
       "      <th>3545</th>\n",
       "      <td>-0.037451</td>\n",
       "      <td>-0.135769</td>\n",
       "      <td>0.015925</td>\n",
       "      <td>0.071009</td>\n",
       "      <td>-0.141882</td>\n",
       "      <td>-0.273685</td>\n",
       "      <td>0.175573</td>\n",
       "      <td>-0.016125</td>\n",
       "      <td>0.090777</td>\n",
       "      <td>-0.112596</td>\n",
       "      <td>...</td>\n",
       "      <td>-0.216014</td>\n",
       "      <td>-0.162158</td>\n",
       "      <td>0.099112</td>\n",
       "      <td>-0.045512</td>\n",
       "      <td>-0.325776</td>\n",
       "      <td>-0.214956</td>\n",
       "      <td>0.044454</td>\n",
       "      <td>0.206384</td>\n",
       "      <td>0.031643</td>\n",
       "      <td>0.013629</td>\n",
       "    </tr>\n",
       "    <tr>\n",
       "      <th>3546</th>\n",
       "      <td>0.058643</td>\n",
       "      <td>-0.145360</td>\n",
       "      <td>0.018967</td>\n",
       "      <td>0.083551</td>\n",
       "      <td>0.025272</td>\n",
       "      <td>-0.225445</td>\n",
       "      <td>0.123617</td>\n",
       "      <td>-0.120970</td>\n",
       "      <td>0.081659</td>\n",
       "      <td>-0.058963</td>\n",
       "      <td>...</td>\n",
       "      <td>-0.183309</td>\n",
       "      <td>-0.179003</td>\n",
       "      <td>-0.097403</td>\n",
       "      <td>-0.063352</td>\n",
       "      <td>-0.009434</td>\n",
       "      <td>-0.230351</td>\n",
       "      <td>-0.012825</td>\n",
       "      <td>0.185590</td>\n",
       "      <td>-0.092797</td>\n",
       "      <td>-0.042149</td>\n",
       "    </tr>\n",
       "    <tr>\n",
       "      <th>3547</th>\n",
       "      <td>0.039088</td>\n",
       "      <td>-0.128934</td>\n",
       "      <td>0.187570</td>\n",
       "      <td>0.031495</td>\n",
       "      <td>0.128024</td>\n",
       "      <td>-0.246306</td>\n",
       "      <td>0.097815</td>\n",
       "      <td>-0.121863</td>\n",
       "      <td>0.075986</td>\n",
       "      <td>0.038884</td>\n",
       "      <td>...</td>\n",
       "      <td>-0.250839</td>\n",
       "      <td>-0.174106</td>\n",
       "      <td>-0.153146</td>\n",
       "      <td>-0.133321</td>\n",
       "      <td>-0.138183</td>\n",
       "      <td>-0.247851</td>\n",
       "      <td>0.035762</td>\n",
       "      <td>0.270528</td>\n",
       "      <td>0.028721</td>\n",
       "      <td>0.057349</td>\n",
       "    </tr>\n",
       "  </tbody>\n",
       "</table>\n",
       "<p>3548 rows × 200 columns</p>\n",
       "</div>"
      ],
      "text/plain": [
       "           0         1         2         3         4         5         6    \\\n",
       "0    -0.018899 -0.075515  0.006268 -0.096327 -0.027239 -0.288885  0.146812   \n",
       "1     0.150000 -0.119189  0.201855  0.028423  0.054564 -0.269780  0.102028   \n",
       "2     0.081652 -0.017048  0.053391 -0.078042  0.139240 -0.225921  0.101551   \n",
       "3     0.061515 -0.083954  0.018384 -0.003495  0.239020 -0.146076  0.037141   \n",
       "4    -0.195369  0.075995  0.017922  0.008346 -0.020318 -0.260585 -0.102827   \n",
       "...        ...       ...       ...       ...       ...       ...       ...   \n",
       "3543 -0.034193 -0.077896  0.026879  0.107693  0.068716 -0.178947 -0.008566   \n",
       "3544  0.082045 -0.077693  0.094895 -0.006921  0.051714 -0.252050  0.088599   \n",
       "3545 -0.037451 -0.135769  0.015925  0.071009 -0.141882 -0.273685  0.175573   \n",
       "3546  0.058643 -0.145360  0.018967  0.083551  0.025272 -0.225445  0.123617   \n",
       "3547  0.039088 -0.128934  0.187570  0.031495  0.128024 -0.246306  0.097815   \n",
       "\n",
       "           7         8         9    ...       190       191       192  \\\n",
       "0    -0.020077 -0.038652 -0.037677  ... -0.173547 -0.186693 -0.076538   \n",
       "1     0.001961 -0.020824  0.019614  ... -0.098071 -0.203792 -0.088003   \n",
       "2    -0.005059 -0.102221 -0.024589  ... -0.118054 -0.230183 -0.018031   \n",
       "3    -0.123219  0.006527 -0.045914  ... -0.214871 -0.141400 -0.195226   \n",
       "4     0.150010  0.191804 -0.052888  ... -0.172623 -0.283337  0.052109   \n",
       "...        ...       ...       ...  ...       ...       ...       ...   \n",
       "3543  0.055545  0.119146 -0.025654  ... -0.146813 -0.149645 -0.112073   \n",
       "3544 -0.070022  0.176025  0.069701  ... -0.126570 -0.030264 -0.090483   \n",
       "3545 -0.016125  0.090777 -0.112596  ... -0.216014 -0.162158  0.099112   \n",
       "3546 -0.120970  0.081659 -0.058963  ... -0.183309 -0.179003 -0.097403   \n",
       "3547 -0.121863  0.075986  0.038884  ... -0.250839 -0.174106 -0.153146   \n",
       "\n",
       "           193       194       195       196       197       198       199  \n",
       "0    -0.114696 -0.144044 -0.251281  0.001007  0.318120 -0.007395  0.073828  \n",
       "1    -0.188396  0.006115 -0.230360 -0.068336  0.230036  0.010882  0.123471  \n",
       "2    -0.099206 -0.108518 -0.128022 -0.032399  0.272753 -0.015391  0.069001  \n",
       "3    -0.038063 -0.064331 -0.307081  0.116717  0.343477 -0.020466 -0.083349  \n",
       "4     0.050916 -0.234175 -0.114666  0.066861  0.171002 -0.079722  0.031573  \n",
       "...        ...       ...       ...       ...       ...       ...       ...  \n",
       "3543  0.014442 -0.077988 -0.179908  0.115997  0.130335 -0.068146 -0.021716  \n",
       "3544 -0.050377 -0.285575 -0.154329  0.123353  0.213273  0.044223  0.033305  \n",
       "3545 -0.045512 -0.325776 -0.214956  0.044454  0.206384  0.031643  0.013629  \n",
       "3546 -0.063352 -0.009434 -0.230351 -0.012825  0.185590 -0.092797 -0.042149  \n",
       "3547 -0.133321 -0.138183 -0.247851  0.035762  0.270528  0.028721  0.057349  \n",
       "\n",
       "[3548 rows x 200 columns]"
      ]
     },
     "execution_count": 27,
     "metadata": {},
     "output_type": "execute_result"
    }
   ],
   "source": [
    "wordvec_df"
   ]
  },
  {
   "cell_type": "code",
   "execution_count": 28,
   "metadata": {},
   "outputs": [],
   "source": [
    "X_train, X_test, y_train, y_test = train_test_split(wordvec_df, \n",
    "                                                    binary_df.emotion_num, \n",
    "                                                    test_size= 0.25,\n",
    "                                                    random_state= 5)"
   ]
  },
  {
   "cell_type": "code",
   "execution_count": 29,
   "metadata": {},
   "outputs": [
    {
     "name": "stderr",
     "output_type": "stream",
     "text": [
      "[Parallel(n_jobs=1)]: Using backend SequentialBackend with 1 concurrent workers.\n"
     ]
    },
    {
     "name": "stdout",
     "output_type": "stream",
     "text": [
      "accuracy 0.8635851183765502\n"
     ]
    },
    {
     "name": "stderr",
     "output_type": "stream",
     "text": [
      "[Parallel(n_jobs=1)]: Done 500 out of 500 | elapsed:   14.2s finished\n",
      "[Parallel(n_jobs=1)]: Using backend SequentialBackend with 1 concurrent workers.\n",
      "[Parallel(n_jobs=1)]: Done 500 out of 500 | elapsed:    0.1s finished\n"
     ]
    }
   ],
   "source": [
    "rfc = RandomForestClassifier(n_estimators=500, criterion='gini', verbose=1)\n",
    "rfc.fit(X_train, y_train)\n",
    "\n",
    "y_pred = rfc.predict(X_test)\n",
    "\n",
    "print('accuracy %s' % accuracy_score(y_pred, y_test))"
   ]
  },
  {
   "cell_type": "code",
   "execution_count": 30,
   "metadata": {},
   "outputs": [
    {
     "name": "stdout",
     "output_type": "stream",
     "text": [
      "accuracy 0.8399098083427283\n"
     ]
    }
   ],
   "source": [
    "clf = SGDClassifier()\n",
    "\n",
    "clf.fit(X_train, y_train)\n",
    "y_pred = clf.predict(X_test)\n",
    "print('accuracy %s' % accuracy_score(y_pred, y_test))"
   ]
  },
  {
   "cell_type": "markdown",
   "metadata": {},
   "source": [
    "#### Neural Network"
   ]
  },
  {
   "cell_type": "code",
   "execution_count": 31,
   "metadata": {},
   "outputs": [],
   "source": [
    "X_train, X_test, y_train, y_test = train_test_split(binary_df.joined_tokens,\n",
    "                                                    binary_df.emotion_num, \n",
    "                                                    test_size= 0.25,\n",
    "                                                    random_state= 5)"
   ]
  },
  {
   "cell_type": "code",
   "execution_count": 32,
   "metadata": {},
   "outputs": [
    {
     "data": {
      "text/plain": [
       "(2661, 4750)"
      ]
     },
     "execution_count": 32,
     "metadata": {},
     "output_type": "execute_result"
    }
   ],
   "source": [
    "tfidf = TfidfVectorizer()\n",
    "\n",
    "X_train_vec = tfidf.fit_transform(X_train)\n",
    "X_test_vec = tfidf.transform(X_test)\n",
    "\n",
    "X_train_vec.shape"
   ]
  },
  {
   "cell_type": "code",
   "execution_count": 33,
   "metadata": {},
   "outputs": [],
   "source": [
    "model = Sequential()\n",
    "model.add(layers.Dense(600, input_dim=(4750), activation='relu'))\n",
    "model.add(Dropout(.1))\n",
    "model.add(layers.Dense(20, activation='relu'))\n",
    "model.add(layers.Dense(1, activation='sigmoid'))"
   ]
  },
  {
   "cell_type": "code",
   "execution_count": 34,
   "metadata": {},
   "outputs": [],
   "source": [
    "# model.compile(optimizer='adam',\n",
    "#               loss='binary_crossentropy',\n",
    "#               metrics=['accuracy'])\n",
    "\n",
    "# model.fit(X_train_vec, y_train, epochs=25, batch_size=100, validation_split=.25, verbose=1)"
   ]
  },
  {
   "cell_type": "markdown",
   "metadata": {},
   "source": [
    "### Model Improvement / Graphs / Confusion Matrix"
   ]
  },
  {
   "cell_type": "code",
   "execution_count": null,
   "metadata": {},
   "outputs": [],
   "source": []
  }
 ],
 "metadata": {
  "interpreter": {
   "hash": "84ac4771d5764d64b27213ab6683f1ab5061e80733e0bd642ee92a0b0c9907f0"
  },
  "kernelspec": {
   "display_name": "Python 3.8.12 ('learn-env')",
   "language": "python",
   "name": "python3"
  },
  "language_info": {
   "codemirror_mode": {
    "name": "ipython",
    "version": 3
   },
   "file_extension": ".py",
   "mimetype": "text/x-python",
   "name": "python",
   "nbconvert_exporter": "python",
   "pygments_lexer": "ipython3",
   "version": "3.8.12"
  },
  "orig_nbformat": 4
 },
 "nbformat": 4,
 "nbformat_minor": 2
}
