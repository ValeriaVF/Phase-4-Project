{
 "cells": [
  {
   "cell_type": "markdown",
   "metadata": {},
   "source": [
    "# Twitter API"
   ]
  },
  {
   "cell_type": "code",
   "execution_count": 15,
   "metadata": {},
   "outputs": [],
   "source": [
    "import tweepy\n",
    "# For saving access tokens and for file management when creating and adding to the dataset\n",
    "import os"
   ]
  },
  {
   "cell_type": "code",
   "execution_count": 32,
   "metadata": {},
   "outputs": [],
   "source": [
    "# DELETE ONCE EVERYTHING RUNS!!!\n",
    "\n",
    "os.environ[\"con_key\"] = \"rMSnI95Kve8FulzDn5r2sbcBB\"  #same as api key \n",
    "\n",
    "os.environ[\"con_secret\"] = \"qsUFWho8Nr1W9q2qCZkemfnNxCq3pXAiWPe1kfEi1NLxUXlvBK\"  #same as api secret\n",
    "\n",
    "os.environ[\"a_key\"] = \"958798129276518400-YxWA02VQ48lxtt7A6eIV7zjrTLERzwT\" #access token\n",
    "\n",
    "os.environ[\"a_secret\"] = \"7zYeXE0bm92sd97LgWf8ahUef0m20LKECVA1hvJBsA17k\" #access token secret\n"
   ]
  },
  {
   "cell_type": "code",
   "execution_count": 33,
   "metadata": {},
   "outputs": [],
   "source": [
    "consumer_key = os.getenv('con_key')\n",
    "consumer_secret = os.getenv('con_secret')\n",
    "access_key = os.getenv('a_key')\n",
    "access_secret = os.getenv('a_secret')"
   ]
  },
  {
   "cell_type": "code",
   "execution_count": 34,
   "metadata": {},
   "outputs": [],
   "source": [
    "# Twitter authentication\n",
    "auth = tweepy.OAuthHandler(consumer_key, consumer_secret)   \n",
    "auth.set_access_token(access_key, access_secret) \n",
    "  \n",
    "# Creating an API object \n",
    "api = tweepy.API(auth)"
   ]
  },
  {
   "cell_type": "code",
   "execution_count": 64,
   "metadata": {},
   "outputs": [],
   "source": [
    "# Identifying user mention\n",
    "username_tweets = tweepy.Cursor(api.search_tweets, \n",
    "                                q=\"@Apple\", \n",
    "                                since=\"2021-01-01\",\n",
    "                                tweet_mode='extended').items(10)"
   ]
  },
  {
   "cell_type": "code",
   "execution_count": 65,
   "metadata": {},
   "outputs": [
    {
     "name": "stderr",
     "output_type": "stream",
     "text": [
      "Unexpected parameter: since\n"
     ]
    },
    {
     "name": "stdout",
     "output_type": "stream",
     "text": [
      "Are you ready to take a bite out @Apple's brand consistency? \n",
      "\n",
      "From the Truth blog, what you can learn from the world's biggest brands in 2022. \n",
      "\n",
      "https://t.co/VCGY2WT037\n",
      "0\n",
      "0\n",
      "2022-02-15 17:27:53+00:00\n",
      "@Apple iPhone ne yenir mi 😂\n",
      "0\n",
      "0\n",
      "2022-02-15 17:27:48+00:00\n",
      "@Apple Samsung Galaxy s20 FE snapdragon işlemcili telefon şuanda istisnasız tüm telefonlardan Fiyat/Kalite olarak çok çok önde ve bu twit abartı barındırmaktadır.\n",
      "0\n",
      "0\n",
      "2022-02-15 17:27:17+00:00\n",
      "@Apple new safe and secure adult fun retail clothing stores etc adult retail products.\n",
      "0\n",
      "0\n",
      "2022-02-15 17:27:04+00:00\n",
      "RT @LP_LVNV: Tuesday morning, 6:37 in #Vegas ……57 degrees….Spring Mountain Range….⁦@just1nbruce⁩ ⁦@LasVegasLocally⁩ ⁦@KelseyMarie_TV⁩ ⁦@dan…\n",
      "0\n",
      "2\n",
      "2022-02-15 17:27:01+00:00\n",
      "RT @jesuslozanof: @PatMetheny @ECMRecords @qobuz @TIDAL @HDtracks @Vinyl_Lives @Apple @amazon https://t.co/2ZRvOaJcQi\n",
      "0\n",
      "3\n",
      "2022-02-15 17:26:58+00:00\n",
      "@aimeeroo @Apple Yeah. And I mean this one that’s being fruity is from 2015. That’s a really good run. So it’s like definitely your get your money’s worth. I just really didn’t want to have to replace it before I paid my taxes. :( was hoping to limp it along a few more months.\n",
      "0\n",
      "0\n",
      "2022-02-15 17:26:21+00:00\n",
      "RT @Apple: Looking for a phone with a battery that keeps up with your day? Pranay was too.\n",
      "0\n",
      "56\n",
      "2022-02-15 17:26:00+00:00\n",
      "participeu a https://t.co/S74F6fl4y1\n",
      "\n",
      "vinga\n",
      "que peti la web\n",
      "el català a tots els dispositius\n",
      "@Google @Apple @amazon @tuSEAT @Tesla @Huawei\n",
      "0\n",
      "0\n",
      "2022-02-15 17:25:51+00:00\n",
      "@Apple Greetings. Bonjour. Buongiorno. Close immediately Parisian France Moulin Rouge. Forever closed.\n",
      "0\n",
      "0\n",
      "2022-02-15 17:25:38+00:00\n"
     ]
    }
   ],
   "source": [
    "for tweet in username_tweets:\n",
    "    text = tweet._json[\"full_text\"]\n",
    "    print(text)\n",
    "    #using different attributes\n",
    "    print(tweet.favorite_count)\n",
    "    print(tweet.retweet_count)\n",
    "    print(tweet.created_at)"
   ]
  },
  {
   "cell_type": "code",
   "execution_count": 66,
   "metadata": {},
   "outputs": [],
   "source": [
    "list = []\n",
    "for tweet in username_tweets:\n",
    "    text = tweet._json[\"full_text\"]\n",
    "\n",
    "    mention_tweet = {'text' : text,\n",
    "                    'favorite_count' : tweet.favorite_count,\n",
    "                    'retweet_count' : tweet.retweet_count,\n",
    "                    'created_at' : tweet.created_at}\n",
    "    \n",
    "    list.append(mention_tweet)"
   ]
  },
  {
   "cell_type": "code",
   "execution_count": 67,
   "metadata": {},
   "outputs": [],
   "source": [
    "import pandas as pd\n",
    "df = pd.DataFrame(list)\n",
    "#df.to_csv('mention_tweets.csv')"
   ]
  },
  {
   "cell_type": "code",
   "execution_count": 68,
   "metadata": {},
   "outputs": [
    {
     "data": {
      "text/html": [
       "<div>\n",
       "<style scoped>\n",
       "    .dataframe tbody tr th:only-of-type {\n",
       "        vertical-align: middle;\n",
       "    }\n",
       "\n",
       "    .dataframe tbody tr th {\n",
       "        vertical-align: top;\n",
       "    }\n",
       "\n",
       "    .dataframe thead th {\n",
       "        text-align: right;\n",
       "    }\n",
       "</style>\n",
       "<table border=\"1\" class=\"dataframe\">\n",
       "  <thead>\n",
       "    <tr style=\"text-align: right;\">\n",
       "      <th></th>\n",
       "    </tr>\n",
       "  </thead>\n",
       "  <tbody>\n",
       "  </tbody>\n",
       "</table>\n",
       "</div>"
      ],
      "text/plain": [
       "Empty DataFrame\n",
       "Columns: []\n",
       "Index: []"
      ]
     },
     "execution_count": 68,
     "metadata": {},
     "output_type": "execute_result"
    }
   ],
   "source": [
    "df.head(3)"
   ]
  },
  {
   "cell_type": "code",
   "execution_count": null,
   "metadata": {},
   "outputs": [],
   "source": []
  }
 ],
 "metadata": {
  "interpreter": {
   "hash": "84ac4771d5764d64b27213ab6683f1ab5061e80733e0bd642ee92a0b0c9907f0"
  },
  "kernelspec": {
   "display_name": "Python 3.8.12 ('learn-env')",
   "language": "python",
   "name": "python3"
  },
  "language_info": {
   "codemirror_mode": {
    "name": "ipython",
    "version": 3
   },
   "file_extension": ".py",
   "mimetype": "text/x-python",
   "name": "python",
   "nbconvert_exporter": "python",
   "pygments_lexer": "ipython3",
   "version": "3.8.5"
  },
  "orig_nbformat": 4
 },
 "nbformat": 4,
 "nbformat_minor": 2
}
